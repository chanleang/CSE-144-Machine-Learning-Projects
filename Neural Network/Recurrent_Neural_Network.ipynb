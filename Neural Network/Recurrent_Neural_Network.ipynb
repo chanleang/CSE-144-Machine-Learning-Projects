{
  "nbformat": 4,
  "nbformat_minor": 0,
  "metadata": {
    "colab": {
      "name": "Recurrent Neural Network.ipynb",
      "provenance": []
    },
    "kernelspec": {
      "display_name": "Python 3",
      "name": "python3"
    }
  },
  "cells": [
    {
      "cell_type": "code",
      "metadata": {
        "id": "2IlwhV0z2nMr"
      },
      "source": [
        "%matplotlib inline"
      ],
      "execution_count": null,
      "outputs": []
    },
    {
      "cell_type": "markdown",
      "metadata": {
        "id": "Chprzdhe2nMw"
      },
      "source": [
        "# Recurrent Neural Network"
      ]
    },
    {
      "cell_type": "code",
      "metadata": {
        "id": "8jeWubXE2nMx"
      },
      "source": [
        "NAME = \"Kenny Bun\""
      ],
      "execution_count": null,
      "outputs": []
    },
    {
      "cell_type": "markdown",
      "metadata": {
        "id": "E-DjjESEyXnL"
      },
      "source": [
        "In this assignment you will use Recurrrent Neural Network architecture (and possible variations of it) to solve **one** of the following problems. For the problem you choose, you will have to follow the steps mentioned below.\n",
        "\n",
        "\n",
        "*   United States Corona Virus Cases Forecast\n",
        "> In this dataset you will use the data available at https://drive.google.com/file/d/1Y7PDnv5-HfmchT9FmFsGKsM3U6JMEABF to predict the number of positive COVID-19 cases in the USA. Note that the number of COVID-19 cases are cumulative.\n",
        "\n",
        "*   Reuters Topic Classification\n",
        "> We will use the [Reuters newswire](https://keras.io/api/datasets/reuters/) classification dataset, which has text paired with 46 topics as labels. You can see what these labels represent [here](https://martin-thoma.com/nlp-reuters/). You will analyze the text and classify the text into one of the 46 classes. Classes are the defined based on the following list (in the same order):\n",
        ">```\n",
        "['cocoa','grain','veg-oil','earn','acq','wheat','copper',\n",
        "'housing','money-supply','coffee','sugar','trade','reserves',\n",
        "'ship','cotton','carcass','crude','nat-gas','cpi','money-fx',\n",
        "'interest','gnp','meal-feed','alum','oilseed','gold','tin',\n",
        "'strategic-metal','livestock','retail','ipi','iron-steel',\n",
        "'rubber','heat','jobs','lei','bop','zinc','orange',\n",
        "'pet-chem','dlr','gas','silver','wpi','hog','lead']\n",
        "```\n",
        "\n",
        "\n",
        "\n"
      ]
    },
    {
      "cell_type": "code",
      "metadata": {
        "id": "Bv1G7ixQvN8E"
      },
      "source": [
        "import numpy as np\n",
        "import pandas as pd"
      ],
      "execution_count": null,
      "outputs": []
    },
    {
      "cell_type": "markdown",
      "metadata": {
        "id": "UtiV5tgLLY5j"
      },
      "source": [
        "## Part 1: Reading the data (20 points)\n",
        "---\n",
        "\n",
        "In this part you need to:\n",
        "\n",
        "1) read in the data (for your task)\n",
        "> * For COVID-19 data you might find this lihnk useful: https://towardsdatascience.com/3-ways-to-load-csv-files-into-colab-7c14fcbdcb92. You need to use the public link to the dataset provided earlier so we can run your code on our end.\n",
        "> * For Reuters data, you can simply load it from Keras: https://www.tensorflow.org/api_docs/python/tf/keras/datasets/reuters/load_data\n",
        "\n",
        "2) prepare and clean the data \n",
        "> * For COVID-19 dataset this means removing attributes you don't need (ex. Lat/Long features),  removing entries that are not relevant to your prediction task (ex. number of cases of other countries), and any other pre-processing you might find useful. \n",
        "Depending on your implementation you might find scaling also useful (Recall [MinMaxScaler](https://scikit-learn.org/stable/modules/generated/sklearn.preprocessing.MinMaxScaler.html) from sklearn. **Hint**: You will need to call .transpose inorder to comply with required inputshape (n,1)). You might also find it useful to trim the data in the begining as reporting was not accurate on early days (>50,000 cases might be a reasonable cut-off). \n",
        "> * For Reuters news classification data, you may follow the RNN handout from the class exercise and prepare encoding and decoding functions and any other pre-processing you might find useful.\n",
        "\n",
        "3) Sample of the dataset\n",
        "> * For COVID-19 dataset print the head of your dataframe so we can see what data points and what features you will use for training.\n",
        "> * For Reuters news classification data, print an example of a news along with its class label. "
      ]
    },
    {
      "cell_type": "code",
      "metadata": {
        "id": "x5OT4QejZa_F"
      },
      "source": [
        "from pydrive.auth import GoogleAuth\n",
        "from pydrive.drive import GoogleDrive\n",
        "from google.colab import auth\n",
        "from oauth2client.client import GoogleCredentials\n",
        "\n",
        "auth.authenticate_user()\n",
        "gauth = GoogleAuth()\n",
        "gauth.credentials = GoogleCredentials.get_application_default()\n",
        "drive = GoogleDrive(gauth)"
      ],
      "execution_count": null,
      "outputs": []
    },
    {
      "cell_type": "code",
      "metadata": {
        "colab": {
          "base_uri": "https://localhost:8080/"
        },
        "id": "PnzsyAmwvImD",
        "outputId": "414eb31d-3271-47a9-d677-81bab038ab3b"
      },
      "source": [
        "# Load data\n",
        "### YOUR CODE HERE ###\n",
        "file_id = '1Y7PDnv5-HfmchT9FmFsGKsM3U6JMEABF'\n",
        "downloaded = drive.CreateFile({'id' : file_id})\n",
        "downloaded.GetContentFile('covid.csv')\n",
        "covid_data = pd.read_csv('covid.csv')\n",
        "\n",
        "# Clean and pre-process the data\n",
        "from sklearn.preprocessing import MinMaxScaler\n",
        "scaler = MinMaxScaler()\n",
        "\n",
        "### YOUR CODE HERE ###\n",
        "us_covid_data = covid_data.loc[covid_data['Country/Region']=='US',:]\n",
        "us_covid_data.drop(columns=['Province/State','Country/Region','Lat','Long'],inplace=True)\n",
        "us_covid_data_array_ge50k = us_covid_data.values.reshape(-1,1)[us_covid_data.values.reshape(-1,1)>=50000]\n",
        "\n",
        "print(us_covid_data_array_ge50k.shape)\n",
        "scaler.fit(us_covid_data_array_ge50k.reshape(-1,1))\n",
        "print(scaler.data_max_)\n",
        "\n",
        "# Print sample data\n",
        "\n",
        "### YOUR CODE HERE ###\n",
        "us_covid_data_scaled = scaler.transform(us_covid_data_array_ge50k.reshape(-1,1))\n",
        "us_covid_data_scaled[:5]"
      ],
      "execution_count": null,
      "outputs": [
        {
          "output_type": "stream",
          "text": [
            "(341,)\n",
            "[28554465.]\n"
          ],
          "name": "stdout"
        },
        {
          "output_type": "stream",
          "text": [
            "/usr/local/lib/python3.7/dist-packages/pandas/core/frame.py:4174: SettingWithCopyWarning: \n",
            "A value is trying to be set on a copy of a slice from a DataFrame\n",
            "\n",
            "See the caveats in the documentation: https://pandas.pydata.org/pandas-docs/stable/user_guide/indexing.html#returning-a-view-versus-a-copy\n",
            "  errors=errors,\n"
          ],
          "name": "stderr"
        },
        {
          "output_type": "execute_result",
          "data": {
            "text/plain": [
              "array([[0.        ],\n",
              "       [0.00042396],\n",
              "       [0.00105054],\n",
              "       [0.00170638],\n",
              "       [0.00239521]])"
            ]
          },
          "metadata": {
            "tags": []
          },
          "execution_count": 5
        }
      ]
    },
    {
      "cell_type": "markdown",
      "metadata": {
        "id": "v7AZBFBPSLtH"
      },
      "source": [
        "4) An additional step for COVID-19 data\n",
        ">You need to modify your dataset so you determine how many days back the model will look to generate a new prediction. Begin with time_step=2. In the training phase you can choose different time-steps (and modify the architecture accordingly)."
      ]
    },
    {
      "cell_type": "code",
      "metadata": {
        "id": "P4fI2NvCJXUb"
      },
      "source": [
        "# You may use the following function to process your dataset further.\n",
        "# Generate a dataset where X[n] contains the readings for the 'time_step' previous days \n",
        "# and y contains the reading for today.\n",
        "def create_dataset(dataset, time_steps=1):\n",
        "\tdataX, dataY = [], []\n",
        "\tfor i in range(len(dataset)-time_steps-1):\n",
        "\t\ta = dataset[i:(i+time_steps), 0]\n",
        "\t\tdataX.append(a)\n",
        "\t\tdataY.append(dataset[i + time_steps, 0])\n",
        "\treturn np.array(dataX), np.array(dataY)"
      ],
      "execution_count": null,
      "outputs": []
    },
    {
      "cell_type": "code",
      "metadata": {
        "colab": {
          "base_uri": "https://localhost:8080/"
        },
        "id": "zteRBuvvOW4m",
        "outputId": "6c5401d1-8a6b-4787-8e38-390eb868fce3"
      },
      "source": [
        "# Choose the number of time steps that the model \"looks back\"\n",
        "time_steps = 20\n",
        "\n",
        "# Produce your dataset based on the number of days the model could look back\n",
        "\n",
        "### YOUR CODE HERE ###\n",
        "covid_X, covid_Y = create_dataset(us_covid_data_scaled.reshape(-1,1),time_steps=time_steps)\n",
        "\n",
        "# Print head of the data\n",
        "\n",
        "### YOUR CODE HERE ###\n",
        "us_covid_data_scaled = scaler.transform(us_covid_data_array_ge50k.reshape(-1,1))\n",
        "us_covid_data_scaled[:5]"
      ],
      "execution_count": null,
      "outputs": [
        {
          "output_type": "execute_result",
          "data": {
            "text/plain": [
              "array([[0.        ],\n",
              "       [0.00042396],\n",
              "       [0.00105054],\n",
              "       [0.00170638],\n",
              "       [0.00239521]])"
            ]
          },
          "metadata": {
            "tags": []
          },
          "execution_count": 7
        }
      ]
    },
    {
      "cell_type": "markdown",
      "metadata": {
        "id": "YyIDtW-U7RJn"
      },
      "source": [
        "## Part 2: Data Partitioning (5 points)\n",
        "---\n",
        "Split data into train and test sets. Please use 80\\% for training and 20\\% for testing. Note: \n",
        "> * for COVID-19 dataset you need to split the data in time (the begining 80\\% of the days from start date will be the training data and the remaining 20\\% will be test data).\n",
        "> * for Reuters dataset, we want to have the same distribution of labels in the training and test set, so you can simply use stratified train-test split of Keras. See here: https://scikit-learn.org/stable/modules/generated/sklearn.model_selection.train_test_split.html "
      ]
    },
    {
      "cell_type": "code",
      "metadata": {
        "id": "dM3fOjNG0ybv"
      },
      "source": [
        "### YOUR CODE HERE ###\n",
        "train_size = 0.80\n",
        "idxs = int(len(covid_X)*train_size)\n",
        "X_train, X_test, y_train, y_test = covid_X[:idxs], covid_X[idxs:], covid_Y[:idxs], covid_Y[idxs:]"
      ],
      "execution_count": null,
      "outputs": []
    },
    {
      "cell_type": "markdown",
      "metadata": {
        "id": "pjoKH7hGXY6r"
      },
      "source": [
        "For COVID-19 dataset, you need to reshape the partitions for the model to be able to process them."
      ]
    },
    {
      "cell_type": "code",
      "metadata": {
        "id": "WD7omR6XXjgK"
      },
      "source": [
        "# Reshape input to be [samples, time steps, features]. For example:\n",
        "X_train = np.reshape(X_train, (X_train.shape[0], 1, X_train.shape[1]))\n",
        "X_test = np.reshape(X_test, (X_test.shape[0], 1, X_test.shape[1]))"
      ],
      "execution_count": null,
      "outputs": []
    },
    {
      "cell_type": "markdown",
      "metadata": {
        "id": "Lp8HvntUTzwW"
      },
      "source": [
        "## Part 3: Simple RNN Model (25 points)\n",
        "---\n",
        "\n",
        "In this part you will create a model using an RNN layer (LSTM or GRU, unidirectional or bidirectional) and train it on your training data. You will also plot training and validation loss and your metric (accuracies (for Reuters data) and mean squared error (for COVID-19 data))."
      ]
    },
    {
      "cell_type": "markdown",
      "metadata": {
        "id": "-L2aeGG9KS7w"
      },
      "source": [
        "Compile your model and display the summary:"
      ]
    },
    {
      "cell_type": "code",
      "metadata": {
        "id": "jaG3qYsqNPqR"
      },
      "source": [
        "import tensorflow as tf\n",
        "import matplotlib.pyplot as plt\n",
        "from tensorflow.keras.layers import Dense, Dropout, Input, LSTM\n",
        "from tensorflow.keras.models import Model"
      ],
      "execution_count": null,
      "outputs": []
    },
    {
      "cell_type": "code",
      "metadata": {
        "colab": {
          "base_uri": "https://localhost:8080/"
        },
        "id": "09k-v7zVzUXj",
        "outputId": "1ae38c2c-388a-4e66-b773-5f33f4dfb445"
      },
      "source": [
        "# Build your model\n",
        "\n",
        "### YOUR CODE HERE ###\n",
        "input_layer = Input(shape=(1,time_steps))\n",
        "\n",
        "x = LSTM(64)(input_layer)\n",
        "x = Dense(64, activation='relu')(x)\n",
        "x = Dense(32, activation='relu')(x)\n",
        "x = Dense(1, activation='relu')(x)\n",
        "model = Model(input_layer, x)\n",
        "\n",
        "loss = tf.keras.losses.MeanSquaredError()\n",
        "\n",
        "opt = tf.keras.optimizers.Adam(2e-4)\n",
        "\n",
        "metrics = 'mean_squared_error'\n",
        "\n",
        "model.compile(loss=loss,\n",
        "              optimizer=opt,\n",
        "              metrics=metrics)\n",
        "\n",
        "model.summary()"
      ],
      "execution_count": null,
      "outputs": [
        {
          "output_type": "stream",
          "text": [
            "Model: \"model\"\n",
            "_________________________________________________________________\n",
            "Layer (type)                 Output Shape              Param #   \n",
            "=================================================================\n",
            "input_1 (InputLayer)         [(None, 1, 20)]           0         \n",
            "_________________________________________________________________\n",
            "lstm (LSTM)                  (None, 64)                21760     \n",
            "_________________________________________________________________\n",
            "dense (Dense)                (None, 64)                4160      \n",
            "_________________________________________________________________\n",
            "dense_1 (Dense)              (None, 32)                2080      \n",
            "_________________________________________________________________\n",
            "dense_2 (Dense)              (None, 1)                 33        \n",
            "=================================================================\n",
            "Total params: 28,033\n",
            "Trainable params: 28,033\n",
            "Non-trainable params: 0\n",
            "_________________________________________________________________\n"
          ],
          "name": "stdout"
        }
      ]
    },
    {
      "cell_type": "code",
      "metadata": {
        "colab": {
          "base_uri": "https://localhost:8080/"
        },
        "id": "mthwaqCrzvM3",
        "outputId": "29d48163-6d84-459d-d446-0c37dc43f382"
      },
      "source": [
        "batchsize = 256\n",
        "epochs =  100\n",
        "\n",
        "# Fit model\n",
        "history = model.fit(X_train, y_train, batch_size=batchsize, epochs=epochs, validation_split=0.2, shuffle=True)"
      ],
      "execution_count": null,
      "outputs": [
        {
          "output_type": "stream",
          "text": [
            "Epoch 1/100\n",
            "1/1 [==============================] - 3s 3s/step - loss: 0.0300 - mean_squared_error: 0.0300 - val_loss: 0.2386 - val_mean_squared_error: 0.2386\n",
            "Epoch 2/100\n",
            "1/1 [==============================] - 0s 54ms/step - loss: 0.0300 - mean_squared_error: 0.0300 - val_loss: 0.2386 - val_mean_squared_error: 0.2386\n",
            "Epoch 3/100\n",
            "1/1 [==============================] - 0s 50ms/step - loss: 0.0300 - mean_squared_error: 0.0300 - val_loss: 0.2386 - val_mean_squared_error: 0.2386\n",
            "Epoch 4/100\n",
            "1/1 [==============================] - 0s 51ms/step - loss: 0.0300 - mean_squared_error: 0.0300 - val_loss: 0.2386 - val_mean_squared_error: 0.2386\n",
            "Epoch 5/100\n",
            "1/1 [==============================] - 0s 54ms/step - loss: 0.0300 - mean_squared_error: 0.0300 - val_loss: 0.2386 - val_mean_squared_error: 0.2386\n",
            "Epoch 6/100\n",
            "1/1 [==============================] - 0s 53ms/step - loss: 0.0300 - mean_squared_error: 0.0300 - val_loss: 0.2386 - val_mean_squared_error: 0.2386\n",
            "Epoch 7/100\n",
            "1/1 [==============================] - 0s 52ms/step - loss: 0.0300 - mean_squared_error: 0.0300 - val_loss: 0.2386 - val_mean_squared_error: 0.2386\n",
            "Epoch 8/100\n",
            "1/1 [==============================] - 0s 62ms/step - loss: 0.0300 - mean_squared_error: 0.0300 - val_loss: 0.2386 - val_mean_squared_error: 0.2386\n",
            "Epoch 9/100\n",
            "1/1 [==============================] - 0s 57ms/step - loss: 0.0300 - mean_squared_error: 0.0300 - val_loss: 0.2386 - val_mean_squared_error: 0.2386\n",
            "Epoch 10/100\n",
            "1/1 [==============================] - 0s 54ms/step - loss: 0.0300 - mean_squared_error: 0.0300 - val_loss: 0.2386 - val_mean_squared_error: 0.2386\n",
            "Epoch 11/100\n",
            "1/1 [==============================] - 0s 60ms/step - loss: 0.0300 - mean_squared_error: 0.0300 - val_loss: 0.2386 - val_mean_squared_error: 0.2386\n",
            "Epoch 12/100\n",
            "1/1 [==============================] - 0s 61ms/step - loss: 0.0300 - mean_squared_error: 0.0300 - val_loss: 0.2386 - val_mean_squared_error: 0.2386\n",
            "Epoch 13/100\n",
            "1/1 [==============================] - 0s 64ms/step - loss: 0.0300 - mean_squared_error: 0.0300 - val_loss: 0.2386 - val_mean_squared_error: 0.2386\n",
            "Epoch 14/100\n",
            "1/1 [==============================] - 0s 55ms/step - loss: 0.0300 - mean_squared_error: 0.0300 - val_loss: 0.2386 - val_mean_squared_error: 0.2386\n",
            "Epoch 15/100\n",
            "1/1 [==============================] - 0s 63ms/step - loss: 0.0300 - mean_squared_error: 0.0300 - val_loss: 0.2386 - val_mean_squared_error: 0.2386\n",
            "Epoch 16/100\n",
            "1/1 [==============================] - 0s 54ms/step - loss: 0.0300 - mean_squared_error: 0.0300 - val_loss: 0.2386 - val_mean_squared_error: 0.2386\n",
            "Epoch 17/100\n",
            "1/1 [==============================] - 0s 63ms/step - loss: 0.0300 - mean_squared_error: 0.0300 - val_loss: 0.2386 - val_mean_squared_error: 0.2386\n",
            "Epoch 18/100\n",
            "1/1 [==============================] - 0s 51ms/step - loss: 0.0300 - mean_squared_error: 0.0300 - val_loss: 0.2386 - val_mean_squared_error: 0.2386\n",
            "Epoch 19/100\n",
            "1/1 [==============================] - 0s 58ms/step - loss: 0.0300 - mean_squared_error: 0.0300 - val_loss: 0.2386 - val_mean_squared_error: 0.2386\n",
            "Epoch 20/100\n",
            "1/1 [==============================] - 0s 64ms/step - loss: 0.0300 - mean_squared_error: 0.0300 - val_loss: 0.2386 - val_mean_squared_error: 0.2386\n",
            "Epoch 21/100\n",
            "1/1 [==============================] - 0s 51ms/step - loss: 0.0300 - mean_squared_error: 0.0300 - val_loss: 0.2386 - val_mean_squared_error: 0.2386\n",
            "Epoch 22/100\n",
            "1/1 [==============================] - 0s 55ms/step - loss: 0.0300 - mean_squared_error: 0.0300 - val_loss: 0.2386 - val_mean_squared_error: 0.2386\n",
            "Epoch 23/100\n",
            "1/1 [==============================] - 0s 56ms/step - loss: 0.0300 - mean_squared_error: 0.0300 - val_loss: 0.2386 - val_mean_squared_error: 0.2386\n",
            "Epoch 24/100\n",
            "1/1 [==============================] - 0s 51ms/step - loss: 0.0300 - mean_squared_error: 0.0300 - val_loss: 0.2386 - val_mean_squared_error: 0.2386\n",
            "Epoch 25/100\n",
            "1/1 [==============================] - 0s 55ms/step - loss: 0.0300 - mean_squared_error: 0.0300 - val_loss: 0.2386 - val_mean_squared_error: 0.2386\n",
            "Epoch 26/100\n",
            "1/1 [==============================] - 0s 51ms/step - loss: 0.0300 - mean_squared_error: 0.0300 - val_loss: 0.2386 - val_mean_squared_error: 0.2386\n",
            "Epoch 27/100\n",
            "1/1 [==============================] - 0s 58ms/step - loss: 0.0300 - mean_squared_error: 0.0300 - val_loss: 0.2386 - val_mean_squared_error: 0.2386\n",
            "Epoch 28/100\n",
            "1/1 [==============================] - 0s 50ms/step - loss: 0.0300 - mean_squared_error: 0.0300 - val_loss: 0.2386 - val_mean_squared_error: 0.2386\n",
            "Epoch 29/100\n",
            "1/1 [==============================] - 0s 60ms/step - loss: 0.0300 - mean_squared_error: 0.0300 - val_loss: 0.2386 - val_mean_squared_error: 0.2386\n",
            "Epoch 30/100\n",
            "1/1 [==============================] - 0s 54ms/step - loss: 0.0300 - mean_squared_error: 0.0300 - val_loss: 0.2386 - val_mean_squared_error: 0.2386\n",
            "Epoch 31/100\n",
            "1/1 [==============================] - 0s 51ms/step - loss: 0.0300 - mean_squared_error: 0.0300 - val_loss: 0.2386 - val_mean_squared_error: 0.2386\n",
            "Epoch 32/100\n",
            "1/1 [==============================] - 0s 50ms/step - loss: 0.0300 - mean_squared_error: 0.0300 - val_loss: 0.2386 - val_mean_squared_error: 0.2386\n",
            "Epoch 33/100\n",
            "1/1 [==============================] - 0s 63ms/step - loss: 0.0300 - mean_squared_error: 0.0300 - val_loss: 0.2386 - val_mean_squared_error: 0.2386\n",
            "Epoch 34/100\n",
            "1/1 [==============================] - 0s 53ms/step - loss: 0.0300 - mean_squared_error: 0.0300 - val_loss: 0.2386 - val_mean_squared_error: 0.2386\n",
            "Epoch 35/100\n",
            "1/1 [==============================] - 0s 53ms/step - loss: 0.0300 - mean_squared_error: 0.0300 - val_loss: 0.2386 - val_mean_squared_error: 0.2386\n",
            "Epoch 36/100\n",
            "1/1 [==============================] - 0s 49ms/step - loss: 0.0300 - mean_squared_error: 0.0300 - val_loss: 0.2386 - val_mean_squared_error: 0.2386\n",
            "Epoch 37/100\n",
            "1/1 [==============================] - 0s 61ms/step - loss: 0.0300 - mean_squared_error: 0.0300 - val_loss: 0.2386 - val_mean_squared_error: 0.2386\n",
            "Epoch 38/100\n",
            "1/1 [==============================] - 0s 62ms/step - loss: 0.0300 - mean_squared_error: 0.0300 - val_loss: 0.2386 - val_mean_squared_error: 0.2386\n",
            "Epoch 39/100\n",
            "1/1 [==============================] - 0s 63ms/step - loss: 0.0300 - mean_squared_error: 0.0300 - val_loss: 0.2386 - val_mean_squared_error: 0.2386\n",
            "Epoch 40/100\n",
            "1/1 [==============================] - 0s 66ms/step - loss: 0.0300 - mean_squared_error: 0.0300 - val_loss: 0.2386 - val_mean_squared_error: 0.2386\n",
            "Epoch 41/100\n",
            "1/1 [==============================] - 0s 57ms/step - loss: 0.0300 - mean_squared_error: 0.0300 - val_loss: 0.2386 - val_mean_squared_error: 0.2386\n",
            "Epoch 42/100\n",
            "1/1 [==============================] - 0s 56ms/step - loss: 0.0300 - mean_squared_error: 0.0300 - val_loss: 0.2386 - val_mean_squared_error: 0.2386\n",
            "Epoch 43/100\n",
            "1/1 [==============================] - 0s 58ms/step - loss: 0.0300 - mean_squared_error: 0.0300 - val_loss: 0.2386 - val_mean_squared_error: 0.2386\n",
            "Epoch 44/100\n",
            "1/1 [==============================] - 0s 59ms/step - loss: 0.0300 - mean_squared_error: 0.0300 - val_loss: 0.2386 - val_mean_squared_error: 0.2386\n",
            "Epoch 45/100\n",
            "1/1 [==============================] - 0s 54ms/step - loss: 0.0300 - mean_squared_error: 0.0300 - val_loss: 0.2386 - val_mean_squared_error: 0.2386\n",
            "Epoch 46/100\n",
            "1/1 [==============================] - 0s 52ms/step - loss: 0.0300 - mean_squared_error: 0.0300 - val_loss: 0.2386 - val_mean_squared_error: 0.2386\n",
            "Epoch 47/100\n",
            "1/1 [==============================] - 0s 59ms/step - loss: 0.0300 - mean_squared_error: 0.0300 - val_loss: 0.2386 - val_mean_squared_error: 0.2386\n",
            "Epoch 48/100\n",
            "1/1 [==============================] - 0s 56ms/step - loss: 0.0300 - mean_squared_error: 0.0300 - val_loss: 0.2386 - val_mean_squared_error: 0.2386\n",
            "Epoch 49/100\n",
            "1/1 [==============================] - 0s 56ms/step - loss: 0.0300 - mean_squared_error: 0.0300 - val_loss: 0.2386 - val_mean_squared_error: 0.2386\n",
            "Epoch 50/100\n",
            "1/1 [==============================] - 0s 57ms/step - loss: 0.0300 - mean_squared_error: 0.0300 - val_loss: 0.2386 - val_mean_squared_error: 0.2386\n",
            "Epoch 51/100\n",
            "1/1 [==============================] - 0s 63ms/step - loss: 0.0300 - mean_squared_error: 0.0300 - val_loss: 0.2386 - val_mean_squared_error: 0.2386\n",
            "Epoch 52/100\n",
            "1/1 [==============================] - 0s 60ms/step - loss: 0.0300 - mean_squared_error: 0.0300 - val_loss: 0.2386 - val_mean_squared_error: 0.2386\n",
            "Epoch 53/100\n",
            "1/1 [==============================] - 0s 65ms/step - loss: 0.0300 - mean_squared_error: 0.0300 - val_loss: 0.2386 - val_mean_squared_error: 0.2386\n",
            "Epoch 54/100\n",
            "1/1 [==============================] - 0s 55ms/step - loss: 0.0300 - mean_squared_error: 0.0300 - val_loss: 0.2386 - val_mean_squared_error: 0.2386\n",
            "Epoch 55/100\n",
            "1/1 [==============================] - 0s 64ms/step - loss: 0.0300 - mean_squared_error: 0.0300 - val_loss: 0.2386 - val_mean_squared_error: 0.2386\n",
            "Epoch 56/100\n",
            "1/1 [==============================] - 0s 67ms/step - loss: 0.0300 - mean_squared_error: 0.0300 - val_loss: 0.2386 - val_mean_squared_error: 0.2386\n",
            "Epoch 57/100\n",
            "1/1 [==============================] - 0s 57ms/step - loss: 0.0300 - mean_squared_error: 0.0300 - val_loss: 0.2386 - val_mean_squared_error: 0.2386\n",
            "Epoch 58/100\n",
            "1/1 [==============================] - 0s 66ms/step - loss: 0.0300 - mean_squared_error: 0.0300 - val_loss: 0.2386 - val_mean_squared_error: 0.2386\n",
            "Epoch 59/100\n",
            "1/1 [==============================] - 0s 65ms/step - loss: 0.0300 - mean_squared_error: 0.0300 - val_loss: 0.2386 - val_mean_squared_error: 0.2386\n",
            "Epoch 60/100\n",
            "1/1 [==============================] - 0s 57ms/step - loss: 0.0300 - mean_squared_error: 0.0300 - val_loss: 0.2386 - val_mean_squared_error: 0.2386\n",
            "Epoch 61/100\n",
            "1/1 [==============================] - 0s 61ms/step - loss: 0.0300 - mean_squared_error: 0.0300 - val_loss: 0.2386 - val_mean_squared_error: 0.2386\n",
            "Epoch 62/100\n",
            "1/1 [==============================] - 0s 56ms/step - loss: 0.0300 - mean_squared_error: 0.0300 - val_loss: 0.2386 - val_mean_squared_error: 0.2386\n",
            "Epoch 63/100\n",
            "1/1 [==============================] - 0s 58ms/step - loss: 0.0300 - mean_squared_error: 0.0300 - val_loss: 0.2386 - val_mean_squared_error: 0.2386\n",
            "Epoch 64/100\n",
            "1/1 [==============================] - 0s 74ms/step - loss: 0.0300 - mean_squared_error: 0.0300 - val_loss: 0.2386 - val_mean_squared_error: 0.2386\n",
            "Epoch 65/100\n",
            "1/1 [==============================] - 0s 62ms/step - loss: 0.0300 - mean_squared_error: 0.0300 - val_loss: 0.2386 - val_mean_squared_error: 0.2386\n",
            "Epoch 66/100\n",
            "1/1 [==============================] - 0s 62ms/step - loss: 0.0300 - mean_squared_error: 0.0300 - val_loss: 0.2386 - val_mean_squared_error: 0.2386\n",
            "Epoch 67/100\n",
            "1/1 [==============================] - 0s 54ms/step - loss: 0.0300 - mean_squared_error: 0.0300 - val_loss: 0.2386 - val_mean_squared_error: 0.2386\n",
            "Epoch 68/100\n",
            "1/1 [==============================] - 0s 59ms/step - loss: 0.0300 - mean_squared_error: 0.0300 - val_loss: 0.2386 - val_mean_squared_error: 0.2386\n",
            "Epoch 69/100\n",
            "1/1 [==============================] - 0s 61ms/step - loss: 0.0300 - mean_squared_error: 0.0300 - val_loss: 0.2386 - val_mean_squared_error: 0.2386\n",
            "Epoch 70/100\n",
            "1/1 [==============================] - 0s 57ms/step - loss: 0.0300 - mean_squared_error: 0.0300 - val_loss: 0.2386 - val_mean_squared_error: 0.2386\n",
            "Epoch 71/100\n",
            "1/1 [==============================] - 0s 64ms/step - loss: 0.0300 - mean_squared_error: 0.0300 - val_loss: 0.2386 - val_mean_squared_error: 0.2386\n",
            "Epoch 72/100\n",
            "1/1 [==============================] - 0s 56ms/step - loss: 0.0300 - mean_squared_error: 0.0300 - val_loss: 0.2386 - val_mean_squared_error: 0.2386\n",
            "Epoch 73/100\n",
            "1/1 [==============================] - 0s 60ms/step - loss: 0.0300 - mean_squared_error: 0.0300 - val_loss: 0.2386 - val_mean_squared_error: 0.2386\n",
            "Epoch 74/100\n",
            "1/1 [==============================] - 0s 51ms/step - loss: 0.0300 - mean_squared_error: 0.0300 - val_loss: 0.2386 - val_mean_squared_error: 0.2386\n",
            "Epoch 75/100\n",
            "1/1 [==============================] - 0s 56ms/step - loss: 0.0300 - mean_squared_error: 0.0300 - val_loss: 0.2386 - val_mean_squared_error: 0.2386\n",
            "Epoch 76/100\n",
            "1/1 [==============================] - 0s 60ms/step - loss: 0.0300 - mean_squared_error: 0.0300 - val_loss: 0.2386 - val_mean_squared_error: 0.2386\n",
            "Epoch 77/100\n",
            "1/1 [==============================] - 0s 54ms/step - loss: 0.0300 - mean_squared_error: 0.0300 - val_loss: 0.2386 - val_mean_squared_error: 0.2386\n",
            "Epoch 78/100\n",
            "1/1 [==============================] - 0s 57ms/step - loss: 0.0300 - mean_squared_error: 0.0300 - val_loss: 0.2386 - val_mean_squared_error: 0.2386\n",
            "Epoch 79/100\n",
            "1/1 [==============================] - 0s 69ms/step - loss: 0.0300 - mean_squared_error: 0.0300 - val_loss: 0.2386 - val_mean_squared_error: 0.2386\n",
            "Epoch 80/100\n",
            "1/1 [==============================] - 0s 53ms/step - loss: 0.0300 - mean_squared_error: 0.0300 - val_loss: 0.2386 - val_mean_squared_error: 0.2386\n",
            "Epoch 81/100\n",
            "1/1 [==============================] - 0s 59ms/step - loss: 0.0300 - mean_squared_error: 0.0300 - val_loss: 0.2386 - val_mean_squared_error: 0.2386\n",
            "Epoch 82/100\n",
            "1/1 [==============================] - 0s 71ms/step - loss: 0.0300 - mean_squared_error: 0.0300 - val_loss: 0.2386 - val_mean_squared_error: 0.2386\n",
            "Epoch 83/100\n",
            "1/1 [==============================] - 0s 60ms/step - loss: 0.0300 - mean_squared_error: 0.0300 - val_loss: 0.2386 - val_mean_squared_error: 0.2386\n",
            "Epoch 84/100\n",
            "1/1 [==============================] - 0s 60ms/step - loss: 0.0300 - mean_squared_error: 0.0300 - val_loss: 0.2386 - val_mean_squared_error: 0.2386\n",
            "Epoch 85/100\n",
            "1/1 [==============================] - 0s 55ms/step - loss: 0.0300 - mean_squared_error: 0.0300 - val_loss: 0.2386 - val_mean_squared_error: 0.2386\n",
            "Epoch 86/100\n",
            "1/1 [==============================] - 0s 59ms/step - loss: 0.0300 - mean_squared_error: 0.0300 - val_loss: 0.2386 - val_mean_squared_error: 0.2386\n",
            "Epoch 87/100\n",
            "1/1 [==============================] - 0s 58ms/step - loss: 0.0300 - mean_squared_error: 0.0300 - val_loss: 0.2386 - val_mean_squared_error: 0.2386\n",
            "Epoch 88/100\n",
            "1/1 [==============================] - 0s 56ms/step - loss: 0.0300 - mean_squared_error: 0.0300 - val_loss: 0.2386 - val_mean_squared_error: 0.2386\n",
            "Epoch 89/100\n",
            "1/1 [==============================] - 0s 56ms/step - loss: 0.0300 - mean_squared_error: 0.0300 - val_loss: 0.2386 - val_mean_squared_error: 0.2386\n",
            "Epoch 90/100\n",
            "1/1 [==============================] - 0s 72ms/step - loss: 0.0300 - mean_squared_error: 0.0300 - val_loss: 0.2386 - val_mean_squared_error: 0.2386\n",
            "Epoch 91/100\n",
            "1/1 [==============================] - 0s 56ms/step - loss: 0.0300 - mean_squared_error: 0.0300 - val_loss: 0.2386 - val_mean_squared_error: 0.2386\n",
            "Epoch 92/100\n",
            "1/1 [==============================] - 0s 63ms/step - loss: 0.0300 - mean_squared_error: 0.0300 - val_loss: 0.2386 - val_mean_squared_error: 0.2386\n",
            "Epoch 93/100\n",
            "1/1 [==============================] - 0s 56ms/step - loss: 0.0300 - mean_squared_error: 0.0300 - val_loss: 0.2386 - val_mean_squared_error: 0.2386\n",
            "Epoch 94/100\n",
            "1/1 [==============================] - 0s 70ms/step - loss: 0.0300 - mean_squared_error: 0.0300 - val_loss: 0.2386 - val_mean_squared_error: 0.2386\n",
            "Epoch 95/100\n",
            "1/1 [==============================] - 0s 63ms/step - loss: 0.0300 - mean_squared_error: 0.0300 - val_loss: 0.2386 - val_mean_squared_error: 0.2386\n",
            "Epoch 96/100\n",
            "1/1 [==============================] - 0s 58ms/step - loss: 0.0300 - mean_squared_error: 0.0300 - val_loss: 0.2386 - val_mean_squared_error: 0.2386\n",
            "Epoch 97/100\n",
            "1/1 [==============================] - 0s 56ms/step - loss: 0.0300 - mean_squared_error: 0.0300 - val_loss: 0.2386 - val_mean_squared_error: 0.2386\n",
            "Epoch 98/100\n",
            "1/1 [==============================] - 0s 57ms/step - loss: 0.0300 - mean_squared_error: 0.0300 - val_loss: 0.2386 - val_mean_squared_error: 0.2386\n",
            "Epoch 99/100\n",
            "1/1 [==============================] - 0s 68ms/step - loss: 0.0300 - mean_squared_error: 0.0300 - val_loss: 0.2386 - val_mean_squared_error: 0.2386\n",
            "Epoch 100/100\n",
            "1/1 [==============================] - 0s 64ms/step - loss: 0.0300 - mean_squared_error: 0.0300 - val_loss: 0.2386 - val_mean_squared_error: 0.2386\n"
          ],
          "name": "stdout"
        }
      ]
    },
    {
      "cell_type": "code",
      "metadata": {
        "colab": {
          "base_uri": "https://localhost:8080/",
          "height": 295
        },
        "id": "cBzaRs9hrQsh",
        "outputId": "0d89939d-87eb-4d39-9f0d-af0180574e57"
      },
      "source": [
        "# Plot the Model loss\n",
        "\n",
        "### YOUR CODE HERE ###\n",
        "plt.plot(history.history['loss'])\n",
        "plt.plot(history.history['val_loss'])\n",
        "plt.title('Model Loss')\n",
        "plt.xlabel('Epochs')\n",
        "plt.ylabel('Loss')\n",
        "plt.legend(['train', 'val'])\n",
        "plt.show()"
      ],
      "execution_count": null,
      "outputs": [
        {
          "output_type": "display_data",
          "data": {
            "image/png": "[encoded data removed]",
            "text/plain": [
              "<Figure size 432x288 with 1 Axes>"
            ]
          },
          "metadata": {
            "tags": [],
            "needs_background": "light"
          }
        }
      ]
    },
    {
      "cell_type": "markdown",
      "metadata": {
        "id": "-ONEJCKBa384"
      },
      "source": [
        "## Part 4: More Advanced RNN Model (30 points)\n",
        "---\n",
        "In this part you will create an RNN model with the number of layers and architerure you prefer. Train it on your training data. You will also plot training and validation loss and your metric (accuracies (for Reuters data) and mean squared error (for COVID-19 data)). In this part, you can try different models and use different hyper-parameters and report only the best one."
      ]
    },
    {
      "cell_type": "markdown",
      "metadata": {
        "id": "ToO-cZbKa386"
      },
      "source": [
        "Compile your model and display the summary:"
      ]
    },
    {
      "cell_type": "code",
      "metadata": {
        "id": "Ic2kNhcVNoh7"
      },
      "source": [
        "import tensorflow as tf\n",
        "import matplotlib.pyplot as plt\n",
        "from tensorflow.keras.layers import Dense, Dropout, Input, LSTM\n",
        "from tensorflow.keras.models import Model"
      ],
      "execution_count": null,
      "outputs": []
    },
    {
      "cell_type": "code",
      "metadata": {
        "colab": {
          "base_uri": "https://localhost:8080/"
        },
        "id": "FOo5_Rp6a386",
        "outputId": "2db87fad-b5ff-44ab-d681-b16778c512a7"
      },
      "source": [
        "# Build your model\n",
        "\n",
        "### YOUR CODE HERE ###\n",
        "input_layer = Input(shape=(1,time_steps))\n",
        "\n",
        "x2 = LSTM(64, return_sequences=True)(input_layer)\n",
        "x2 = LSTM(32, return_sequences=True)(x2)\n",
        "# x2 = LSTM(16, return_sequences=True)(x2)\n",
        "x2 = LSTM(8)(x2)\n",
        "x2 = Dense(64, activation='relu')(x2)\n",
        "x2 = Dense(32, activation='relu')(x2)\n",
        "#x2 = Dense(16, activation='relu')(x2)\n",
        "x2 = Dense(1, activation='relu')(x2)\n",
        "model = Model(input_layer, x2)\n",
        "\n",
        "loss = tf.keras.losses.MeanSquaredError()\n",
        "\n",
        "opt = tf.keras.optimizers.Adam(2e-4)\n",
        "\n",
        "metrics = 'mean_squared_error'\n",
        "\n",
        "model.compile(loss=loss,\n",
        "              optimizer=opt,\n",
        "              metrics=metrics)\n",
        "\n",
        "model.summary()"
      ],
      "execution_count": null,
      "outputs": [
        {
          "output_type": "stream",
          "text": [
            "Model: \"model_1\"\n",
            "_________________________________________________________________\n",
            "Layer (type)                 Output Shape              Param #   \n",
            "=================================================================\n",
            "input_2 (InputLayer)         [(None, 1, 20)]           0         \n",
            "_________________________________________________________________\n",
            "lstm_1 (LSTM)                (None, 1, 64)             21760     \n",
            "_________________________________________________________________\n",
            "lstm_2 (LSTM)                (None, 1, 32)             12416     \n",
            "_________________________________________________________________\n",
            "lstm_3 (LSTM)                (None, 8)                 1312      \n",
            "_________________________________________________________________\n",
            "dense_3 (Dense)              (None, 64)                576       \n",
            "_________________________________________________________________\n",
            "dense_4 (Dense)              (None, 32)                2080      \n",
            "_________________________________________________________________\n",
            "dense_5 (Dense)              (None, 1)                 33        \n",
            "=================================================================\n",
            "Total params: 38,177\n",
            "Trainable params: 38,177\n",
            "Non-trainable params: 0\n",
            "_________________________________________________________________\n"
          ],
          "name": "stdout"
        }
      ]
    },
    {
      "cell_type": "code",
      "metadata": {
        "colab": {
          "base_uri": "https://localhost:8080/"
        },
        "id": "80rNRrDva387",
        "outputId": "488647b6-46b8-41d2-a9a1-9c6fcda91dc5"
      },
      "source": [
        "batchsize = 170\n",
        "epochs =  80\n",
        "\n",
        "# Fit model\n",
        "history = model.fit(X_train, y_train, batch_size=batchsize, epochs=epochs, validation_split=0.2, shuffle=True)"
      ],
      "execution_count": null,
      "outputs": [
        {
          "output_type": "stream",
          "text": [
            "Epoch 1/80\n",
            "2/2 [==============================] - 6s 1s/step - loss: 0.0292 - mean_squared_error: 0.0292 - val_loss: 0.2345 - val_mean_squared_error: 0.2345\n",
            "Epoch 2/80\n",
            "2/2 [==============================] - 0s 50ms/step - loss: 0.0289 - mean_squared_error: 0.0289 - val_loss: 0.2317 - val_mean_squared_error: 0.2317\n",
            "Epoch 3/80\n",
            "2/2 [==============================] - 0s 48ms/step - loss: 0.0277 - mean_squared_error: 0.0277 - val_loss: 0.2290 - val_mean_squared_error: 0.2290\n",
            "Epoch 4/80\n",
            "2/2 [==============================] - 0s 55ms/step - loss: 0.0274 - mean_squared_error: 0.0274 - val_loss: 0.2263 - val_mean_squared_error: 0.2263\n",
            "Epoch 5/80\n",
            "2/2 [==============================] - 0s 51ms/step - loss: 0.0264 - mean_squared_error: 0.0264 - val_loss: 0.2235 - val_mean_squared_error: 0.2235\n",
            "Epoch 6/80\n",
            "2/2 [==============================] - 0s 52ms/step - loss: 0.0263 - mean_squared_error: 0.0263 - val_loss: 0.2208 - val_mean_squared_error: 0.2208\n",
            "Epoch 7/80\n",
            "2/2 [==============================] - 0s 49ms/step - loss: 0.0250 - mean_squared_error: 0.0250 - val_loss: 0.2180 - val_mean_squared_error: 0.2180\n",
            "Epoch 8/80\n",
            "2/2 [==============================] - 0s 56ms/step - loss: 0.0252 - mean_squared_error: 0.0252 - val_loss: 0.2153 - val_mean_squared_error: 0.2153\n",
            "Epoch 9/80\n",
            "2/2 [==============================] - 0s 49ms/step - loss: 0.0244 - mean_squared_error: 0.0244 - val_loss: 0.2125 - val_mean_squared_error: 0.2125\n",
            "Epoch 10/80\n",
            "2/2 [==============================] - 0s 52ms/step - loss: 0.0234 - mean_squared_error: 0.0234 - val_loss: 0.2098 - val_mean_squared_error: 0.2098\n",
            "Epoch 11/80\n",
            "2/2 [==============================] - 0s 52ms/step - loss: 0.0228 - mean_squared_error: 0.0228 - val_loss: 0.2070 - val_mean_squared_error: 0.2070\n",
            "Epoch 12/80\n",
            "2/2 [==============================] - 0s 56ms/step - loss: 0.0222 - mean_squared_error: 0.0222 - val_loss: 0.2042 - val_mean_squared_error: 0.2042\n",
            "Epoch 13/80\n",
            "2/2 [==============================] - 0s 53ms/step - loss: 0.0214 - mean_squared_error: 0.0214 - val_loss: 0.2014 - val_mean_squared_error: 0.2014\n",
            "Epoch 14/80\n",
            "2/2 [==============================] - 0s 52ms/step - loss: 0.0207 - mean_squared_error: 0.0207 - val_loss: 0.1985 - val_mean_squared_error: 0.1985\n",
            "Epoch 15/80\n",
            "2/2 [==============================] - 0s 56ms/step - loss: 0.0199 - mean_squared_error: 0.0199 - val_loss: 0.1956 - val_mean_squared_error: 0.1956\n",
            "Epoch 16/80\n",
            "2/2 [==============================] - 0s 55ms/step - loss: 0.0195 - mean_squared_error: 0.0195 - val_loss: 0.1926 - val_mean_squared_error: 0.1926\n",
            "Epoch 17/80\n",
            "2/2 [==============================] - 0s 52ms/step - loss: 0.0185 - mean_squared_error: 0.0185 - val_loss: 0.1896 - val_mean_squared_error: 0.1896\n",
            "Epoch 18/80\n",
            "2/2 [==============================] - 0s 49ms/step - loss: 0.0182 - mean_squared_error: 0.0182 - val_loss: 0.1865 - val_mean_squared_error: 0.1865\n",
            "Epoch 19/80\n",
            "2/2 [==============================] - 0s 54ms/step - loss: 0.0169 - mean_squared_error: 0.0169 - val_loss: 0.1834 - val_mean_squared_error: 0.1834\n",
            "Epoch 20/80\n",
            "2/2 [==============================] - 0s 51ms/step - loss: 0.0165 - mean_squared_error: 0.0165 - val_loss: 0.1802 - val_mean_squared_error: 0.1802\n",
            "Epoch 21/80\n",
            "2/2 [==============================] - 0s 48ms/step - loss: 0.0161 - mean_squared_error: 0.0161 - val_loss: 0.1770 - val_mean_squared_error: 0.1770\n",
            "Epoch 22/80\n",
            "2/2 [==============================] - 0s 52ms/step - loss: 0.0153 - mean_squared_error: 0.0153 - val_loss: 0.1737 - val_mean_squared_error: 0.1737\n",
            "Epoch 23/80\n",
            "2/2 [==============================] - 0s 51ms/step - loss: 0.0148 - mean_squared_error: 0.0148 - val_loss: 0.1705 - val_mean_squared_error: 0.1705\n",
            "Epoch 24/80\n",
            "2/2 [==============================] - 0s 56ms/step - loss: 0.0143 - mean_squared_error: 0.0143 - val_loss: 0.1672 - val_mean_squared_error: 0.1672\n",
            "Epoch 25/80\n",
            "2/2 [==============================] - 0s 49ms/step - loss: 0.0138 - mean_squared_error: 0.0138 - val_loss: 0.1639 - val_mean_squared_error: 0.1639\n",
            "Epoch 26/80\n",
            "2/2 [==============================] - 0s 53ms/step - loss: 0.0133 - mean_squared_error: 0.0133 - val_loss: 0.1606 - val_mean_squared_error: 0.1606\n",
            "Epoch 27/80\n",
            "2/2 [==============================] - 0s 58ms/step - loss: 0.0127 - mean_squared_error: 0.0127 - val_loss: 0.1572 - val_mean_squared_error: 0.1572\n",
            "Epoch 28/80\n",
            "2/2 [==============================] - 0s 49ms/step - loss: 0.0122 - mean_squared_error: 0.0122 - val_loss: 0.1539 - val_mean_squared_error: 0.1539\n",
            "Epoch 29/80\n",
            "2/2 [==============================] - 0s 48ms/step - loss: 0.0116 - mean_squared_error: 0.0116 - val_loss: 0.1505 - val_mean_squared_error: 0.1505\n",
            "Epoch 30/80\n",
            "2/2 [==============================] - 0s 58ms/step - loss: 0.0112 - mean_squared_error: 0.0112 - val_loss: 0.1472 - val_mean_squared_error: 0.1472\n",
            "Epoch 31/80\n",
            "2/2 [==============================] - 0s 60ms/step - loss: 0.0106 - mean_squared_error: 0.0106 - val_loss: 0.1438 - val_mean_squared_error: 0.1438\n",
            "Epoch 32/80\n",
            "2/2 [==============================] - 0s 50ms/step - loss: 0.0102 - mean_squared_error: 0.0102 - val_loss: 0.1404 - val_mean_squared_error: 0.1404\n",
            "Epoch 33/80\n",
            "2/2 [==============================] - 0s 53ms/step - loss: 0.0097 - mean_squared_error: 0.0097 - val_loss: 0.1369 - val_mean_squared_error: 0.1369\n",
            "Epoch 34/80\n",
            "2/2 [==============================] - 0s 56ms/step - loss: 0.0093 - mean_squared_error: 0.0093 - val_loss: 0.1333 - val_mean_squared_error: 0.1333\n",
            "Epoch 35/80\n",
            "2/2 [==============================] - 0s 52ms/step - loss: 0.0089 - mean_squared_error: 0.0089 - val_loss: 0.1297 - val_mean_squared_error: 0.1297\n",
            "Epoch 36/80\n",
            "2/2 [==============================] - 0s 52ms/step - loss: 0.0086 - mean_squared_error: 0.0086 - val_loss: 0.1261 - val_mean_squared_error: 0.1261\n",
            "Epoch 37/80\n",
            "2/2 [==============================] - 0s 57ms/step - loss: 0.0081 - mean_squared_error: 0.0081 - val_loss: 0.1223 - val_mean_squared_error: 0.1223\n",
            "Epoch 38/80\n",
            "2/2 [==============================] - 0s 50ms/step - loss: 0.0078 - mean_squared_error: 0.0078 - val_loss: 0.1186 - val_mean_squared_error: 0.1186\n",
            "Epoch 39/80\n",
            "2/2 [==============================] - 0s 54ms/step - loss: 0.0074 - mean_squared_error: 0.0074 - val_loss: 0.1149 - val_mean_squared_error: 0.1149\n",
            "Epoch 40/80\n",
            "2/2 [==============================] - 0s 53ms/step - loss: 0.0072 - mean_squared_error: 0.0072 - val_loss: 0.1111 - val_mean_squared_error: 0.1111\n",
            "Epoch 41/80\n",
            "2/2 [==============================] - 0s 58ms/step - loss: 0.0067 - mean_squared_error: 0.0067 - val_loss: 0.1073 - val_mean_squared_error: 0.1073\n",
            "Epoch 42/80\n",
            "2/2 [==============================] - 0s 50ms/step - loss: 0.0067 - mean_squared_error: 0.0067 - val_loss: 0.1035 - val_mean_squared_error: 0.1035\n",
            "Epoch 43/80\n",
            "2/2 [==============================] - 0s 52ms/step - loss: 0.0062 - mean_squared_error: 0.0062 - val_loss: 0.0999 - val_mean_squared_error: 0.0999\n",
            "Epoch 44/80\n",
            "2/2 [==============================] - 0s 52ms/step - loss: 0.0062 - mean_squared_error: 0.0062 - val_loss: 0.0963 - val_mean_squared_error: 0.0963\n",
            "Epoch 45/80\n",
            "2/2 [==============================] - 0s 59ms/step - loss: 0.0061 - mean_squared_error: 0.0061 - val_loss: 0.0929 - val_mean_squared_error: 0.0929\n",
            "Epoch 46/80\n",
            "2/2 [==============================] - 0s 55ms/step - loss: 0.0058 - mean_squared_error: 0.0058 - val_loss: 0.0896 - val_mean_squared_error: 0.0896\n",
            "Epoch 47/80\n",
            "2/2 [==============================] - 0s 52ms/step - loss: 0.0056 - mean_squared_error: 0.0056 - val_loss: 0.0864 - val_mean_squared_error: 0.0864\n",
            "Epoch 48/80\n",
            "2/2 [==============================] - 0s 51ms/step - loss: 0.0054 - mean_squared_error: 0.0054 - val_loss: 0.0832 - val_mean_squared_error: 0.0832\n",
            "Epoch 49/80\n",
            "2/2 [==============================] - 0s 56ms/step - loss: 0.0053 - mean_squared_error: 0.0053 - val_loss: 0.0801 - val_mean_squared_error: 0.0801\n",
            "Epoch 50/80\n",
            "2/2 [==============================] - 0s 49ms/step - loss: 0.0052 - mean_squared_error: 0.0052 - val_loss: 0.0771 - val_mean_squared_error: 0.0771\n",
            "Epoch 51/80\n",
            "2/2 [==============================] - 0s 54ms/step - loss: 0.0052 - mean_squared_error: 0.0052 - val_loss: 0.0742 - val_mean_squared_error: 0.0742\n",
            "Epoch 52/80\n",
            "2/2 [==============================] - 0s 49ms/step - loss: 0.0051 - mean_squared_error: 0.0051 - val_loss: 0.0714 - val_mean_squared_error: 0.0714\n",
            "Epoch 53/80\n",
            "2/2 [==============================] - 0s 55ms/step - loss: 0.0050 - mean_squared_error: 0.0050 - val_loss: 0.0688 - val_mean_squared_error: 0.0688\n",
            "Epoch 54/80\n",
            "2/2 [==============================] - 0s 52ms/step - loss: 0.0049 - mean_squared_error: 0.0049 - val_loss: 0.0664 - val_mean_squared_error: 0.0664\n",
            "Epoch 55/80\n",
            "2/2 [==============================] - 0s 55ms/step - loss: 0.0048 - mean_squared_error: 0.0048 - val_loss: 0.0642 - val_mean_squared_error: 0.0642\n",
            "Epoch 56/80\n",
            "2/2 [==============================] - 0s 53ms/step - loss: 0.0046 - mean_squared_error: 0.0046 - val_loss: 0.0623 - val_mean_squared_error: 0.0623\n",
            "Epoch 57/80\n",
            "2/2 [==============================] - 0s 57ms/step - loss: 0.0046 - mean_squared_error: 0.0046 - val_loss: 0.0605 - val_mean_squared_error: 0.0605\n",
            "Epoch 58/80\n",
            "2/2 [==============================] - 0s 55ms/step - loss: 0.0045 - mean_squared_error: 0.0045 - val_loss: 0.0588 - val_mean_squared_error: 0.0588\n",
            "Epoch 59/80\n",
            "2/2 [==============================] - 0s 60ms/step - loss: 0.0044 - mean_squared_error: 0.0044 - val_loss: 0.0572 - val_mean_squared_error: 0.0572\n",
            "Epoch 60/80\n",
            "2/2 [==============================] - 0s 59ms/step - loss: 0.0043 - mean_squared_error: 0.0043 - val_loss: 0.0557 - val_mean_squared_error: 0.0557\n",
            "Epoch 61/80\n",
            "2/2 [==============================] - 0s 51ms/step - loss: 0.0043 - mean_squared_error: 0.0043 - val_loss: 0.0541 - val_mean_squared_error: 0.0541\n",
            "Epoch 62/80\n",
            "2/2 [==============================] - 0s 53ms/step - loss: 0.0041 - mean_squared_error: 0.0041 - val_loss: 0.0524 - val_mean_squared_error: 0.0524\n",
            "Epoch 63/80\n",
            "2/2 [==============================] - 0s 52ms/step - loss: 0.0041 - mean_squared_error: 0.0041 - val_loss: 0.0509 - val_mean_squared_error: 0.0509\n",
            "Epoch 64/80\n",
            "2/2 [==============================] - 0s 55ms/step - loss: 0.0039 - mean_squared_error: 0.0039 - val_loss: 0.0494 - val_mean_squared_error: 0.0494\n",
            "Epoch 65/80\n",
            "2/2 [==============================] - 0s 50ms/step - loss: 0.0038 - mean_squared_error: 0.0038 - val_loss: 0.0480 - val_mean_squared_error: 0.0480\n",
            "Epoch 66/80\n",
            "2/2 [==============================] - 0s 56ms/step - loss: 0.0037 - mean_squared_error: 0.0037 - val_loss: 0.0465 - val_mean_squared_error: 0.0465\n",
            "Epoch 67/80\n",
            "2/2 [==============================] - 0s 52ms/step - loss: 0.0035 - mean_squared_error: 0.0035 - val_loss: 0.0448 - val_mean_squared_error: 0.0448\n",
            "Epoch 68/80\n",
            "2/2 [==============================] - 0s 55ms/step - loss: 0.0034 - mean_squared_error: 0.0034 - val_loss: 0.0432 - val_mean_squared_error: 0.0432\n",
            "Epoch 69/80\n",
            "2/2 [==============================] - 0s 56ms/step - loss: 0.0033 - mean_squared_error: 0.0033 - val_loss: 0.0414 - val_mean_squared_error: 0.0414\n",
            "Epoch 70/80\n",
            "2/2 [==============================] - 0s 55ms/step - loss: 0.0032 - mean_squared_error: 0.0032 - val_loss: 0.0396 - val_mean_squared_error: 0.0396\n",
            "Epoch 71/80\n",
            "2/2 [==============================] - 0s 49ms/step - loss: 0.0031 - mean_squared_error: 0.0031 - val_loss: 0.0376 - val_mean_squared_error: 0.0376\n",
            "Epoch 72/80\n",
            "2/2 [==============================] - 0s 50ms/step - loss: 0.0030 - mean_squared_error: 0.0030 - val_loss: 0.0357 - val_mean_squared_error: 0.0357\n",
            "Epoch 73/80\n",
            "2/2 [==============================] - 0s 62ms/step - loss: 0.0028 - mean_squared_error: 0.0028 - val_loss: 0.0338 - val_mean_squared_error: 0.0338\n",
            "Epoch 74/80\n",
            "2/2 [==============================] - 0s 55ms/step - loss: 0.0027 - mean_squared_error: 0.0027 - val_loss: 0.0320 - val_mean_squared_error: 0.0320\n",
            "Epoch 75/80\n",
            "2/2 [==============================] - 0s 50ms/step - loss: 0.0026 - mean_squared_error: 0.0026 - val_loss: 0.0304 - val_mean_squared_error: 0.0304\n",
            "Epoch 76/80\n",
            "2/2 [==============================] - 0s 54ms/step - loss: 0.0025 - mean_squared_error: 0.0025 - val_loss: 0.0289 - val_mean_squared_error: 0.0289\n",
            "Epoch 77/80\n",
            "2/2 [==============================] - 0s 55ms/step - loss: 0.0024 - mean_squared_error: 0.0024 - val_loss: 0.0274 - val_mean_squared_error: 0.0274\n",
            "Epoch 78/80\n",
            "2/2 [==============================] - 0s 56ms/step - loss: 0.0022 - mean_squared_error: 0.0022 - val_loss: 0.0259 - val_mean_squared_error: 0.0259\n",
            "Epoch 79/80\n",
            "2/2 [==============================] - 0s 55ms/step - loss: 0.0022 - mean_squared_error: 0.0022 - val_loss: 0.0244 - val_mean_squared_error: 0.0244\n",
            "Epoch 80/80\n",
            "2/2 [==============================] - 0s 60ms/step - loss: 0.0020 - mean_squared_error: 0.0020 - val_loss: 0.0228 - val_mean_squared_error: 0.0228\n"
          ],
          "name": "stdout"
        }
      ]
    },
    {
      "cell_type": "code",
      "metadata": {
        "colab": {
          "base_uri": "https://localhost:8080/",
          "height": 295
        },
        "id": "8B_BKjzda387",
        "outputId": "4d47875e-1df2-406f-dc5c-1a0dab49cb03"
      },
      "source": [
        "# Plot the Model loss\n",
        "\n",
        "### YOUR CODE HERE ###\n",
        "plt.plot(history.history['loss'])\n",
        "plt.plot(history.history['val_loss'])\n",
        "plt.title('Model Loss')\n",
        "plt.xlabel('Epochs')\n",
        "plt.ylabel('Loss')\n",
        "plt.legend(['train', 'val'])\n",
        "plt.show()"
      ],
      "execution_count": null,
      "outputs": [
        {
          "output_type": "display_data",
          "data": {
            "image/png": "[encoded data removed]",
            "text/plain": [
              "<Figure size 432x288 with 1 Axes>"
            ]
          },
          "metadata": {
            "tags": [],
            "needs_background": "light"
          }
        }
      ]
    },
    {
      "cell_type": "markdown",
      "metadata": {
        "id": "dc7BEuccYvit"
      },
      "source": [
        "## Part 5: Looking at the Predictions (20 points)\n",
        "---\n",
        "\n",
        "Now, Using the final (best) model you trained, show your model's performance on the test set.\n",
        "> * For COVID-19 dataset, plot the model's prediction for the number of cases and the actual daily cumulative case numbers.\n",
        "> * For Reuters dataset, calculate and display the prediction accuracy for all of the 46 different classes. "
      ]
    },
    {
      "cell_type": "code",
      "metadata": {
        "colab": {
          "base_uri": "https://localhost:8080/"
        },
        "id": "PyCzORLJELij",
        "outputId": "e6ed4e90-52ee-4033-8507-b4e8b79b19f7"
      },
      "source": [
        "### YOUR CODE HERE ###\n",
        "y_preds_raw = model.predict(X_test)\n",
        "print(y_preds_raw)\n",
        "mean_test_loss = np.mean(tf.keras.losses.MSE(y_preds_raw, y_test))\n",
        "print(f'Test Loss = {mean_test_loss}')\n",
        "y_preds = scaler.inverse_transform(y_preds_raw)"
      ],
      "execution_count": null,
      "outputs": [
        {
          "output_type": "stream",
          "text": [
            "[[0.43165287]\n",
            " [0.43544608]\n",
            " [0.439254  ]\n",
            " [0.44306645]\n",
            " [0.44673443]\n",
            " [0.4503478 ]\n",
            " [0.4539463 ]\n",
            " [0.45746627]\n",
            " [0.46096355]\n",
            " [0.4645384 ]\n",
            " [0.4681299 ]\n",
            " [0.4715608 ]\n",
            " [0.47494897]\n",
            " [0.4784314 ]\n",
            " [0.48185256]\n",
            " [0.4853467 ]\n",
            " [0.4889041 ]\n",
            " [0.4924256 ]\n",
            " [0.49591336]\n",
            " [0.49936107]\n",
            " [0.5028275 ]\n",
            " [0.50632274]\n",
            " [0.5097905 ]\n",
            " [0.51327527]\n",
            " [0.51674026]\n",
            " [0.52014357]\n",
            " [0.5234549 ]\n",
            " [0.52666676]\n",
            " [0.5298232 ]\n",
            " [0.53289837]\n",
            " [0.53595287]\n",
            " [0.53893524]\n",
            " [0.5418233 ]\n",
            " [0.54459685]\n",
            " [0.5472243 ]\n",
            " [0.54973215]\n",
            " [0.5521727 ]\n",
            " [0.5545575 ]\n",
            " [0.55686945]\n",
            " [0.5591    ]\n",
            " [0.5612239 ]\n",
            " [0.5632291 ]\n",
            " [0.5651434 ]\n",
            " [0.5670229 ]\n",
            " [0.5688532 ]\n",
            " [0.5706385 ]\n",
            " [0.57236016]\n",
            " [0.5740089 ]\n",
            " [0.5755658 ]\n",
            " [0.57706225]\n",
            " [0.5785255 ]\n",
            " [0.5799535 ]\n",
            " [0.5813252 ]\n",
            " [0.5826357 ]\n",
            " [0.58387876]\n",
            " [0.58504623]\n",
            " [0.58614826]\n",
            " [0.5872343 ]\n",
            " [0.5883047 ]\n",
            " [0.58932614]\n",
            " [0.590314  ]\n",
            " [0.5912693 ]\n",
            " [0.59217316]\n",
            " [0.5930425 ]]\n",
            "Test Loss = 0.1255661710488251\n"
          ],
          "name": "stdout"
        }
      ]
    },
    {
      "cell_type": "code",
      "metadata": {
        "colab": {
          "base_uri": "https://localhost:8080/",
          "height": 312
        },
        "id": "xYp2lvigUbw2",
        "outputId": "ffbf2cc6-e153-49d2-e4ab-bfc2e9ed0bbe"
      },
      "source": [
        "plt.plot(y_preds, label='predicts')\n",
        "plt.plot(scaler.inverse_transform(y_test.reshape(-1,1)),label='true')\n",
        "plt.ylabel('Number of Cases')\n",
        "plt.xlabel('Day')\n",
        "plt.title('Daily Covid-19 cases in US')\n",
        "plt.legend()"
      ],
      "execution_count": null,
      "outputs": [
        {
          "output_type": "execute_result",
          "data": {
            "text/plain": [
              "<matplotlib.legend.Legend at 0x7fa501e0dd50>"
            ]
          },
          "metadata": {
            "tags": []
          },
          "execution_count": 19
        },
        {
          "output_type": "display_data",
          "data": {
            "image/png": "[encoded data removed]",
            "text/plain": [
              "<Figure size 432x288 with 1 Axes>"
            ]
          },
          "metadata": {
            "tags": [],
            "needs_background": "light"
          }
        }
      ]
    },
    {
      "cell_type": "markdown",
      "metadata": {
        "id": "8E9xX8-Aiw3b"
      },
      "source": [
        "## Extra Credit: Reuters Topic Classification\n",
        "\n",
        "*   Reuters Topic Classification\n",
        "> We will use the [Reuters newswire](https://keras.io/api/datasets/reuters/) classification dataset, which has text paired with 46 topics as labels. You can see what these labels represent [here](https://martin-thoma.com/nlp-reuters/). You will analyze the text and classify the text into one of the 46 classes. Classes are the defined based on the following list (in the same order):\n",
        ">```\n",
        "['cocoa','grain','veg-oil','earn','acq','wheat','copper',\n",
        "'housing','money-supply','coffee','sugar','trade','reserves',\n",
        "'ship','cotton','carcass','crude','nat-gas','cpi','money-fx',\n",
        "'interest','gnp','meal-feed','alum','oilseed','gold','tin',\n",
        "'strategic-metal','livestock','retail','ipi','iron-steel',\n",
        "'rubber','heat','jobs','lei','bop','zinc','orange',\n",
        "'pet-chem','dlr','gas','silver','wpi','hog','lead']\n",
        "```"
      ]
    },
    {
      "cell_type": "markdown",
      "metadata": {
        "id": "ZRHkEQtujCOQ"
      },
      "source": [
        "## Part 1: Reading the data (20 points)\n",
        "---\n",
        "\n",
        "In this part you need to:\n",
        "\n",
        "1) read in the data (for your task)\n",
        "> * For COVID-19 data you might find this lihnk useful: https://towardsdatascience.com/3-ways-to-load-csv-files-into-colab-7c14fcbdcb92. You need to use the public link to the dataset provided earlier so we can run your code on our end.\n",
        "> * For Reuters data, you can simply load it from Keras: https://www.tensorflow.org/api_docs/python/tf/keras/datasets/reuters/load_data\n",
        "\n",
        "2) prepare and clean the data \n",
        "> * For COVID-19 dataset this means removing attributes you don't need (ex. Lat/Long features),  removing entries that are not relevant to your prediction task (ex. number of cases of other countries), and any other pre-processing you might find useful. \n",
        "Depending on your implementation you might find scaling also useful (Recall [MinMaxScaler](https://scikit-learn.org/stable/modules/generated/sklearn.preprocessing.MinMaxScaler.html) from sklearn. **Hint**: You will need to call .transpose inorder to comply with required inputshape (n,1)). You might also find it useful to trim the data in the begining as reporting was not accurate on early days (>50,000 cases might be a reasonable cut-off). \n",
        "> * For Reuters news classification data, you may follow the RNN handout from the class exercise and prepare encoding and decoding functions and any other pre-processing you might find useful.\n",
        "\n",
        "3) Sample of the dataset\n",
        "> * For COVID-19 dataset print the head of your dataframe so we can see what data points and what features you will use for training.\n",
        "> * For Reuters news classification data, print an example of a news along with its class label. "
      ]
    },
    {
      "cell_type": "code",
      "metadata": {
        "id": "1xvNO8VJjSsO"
      },
      "source": [
        ""
      ],
      "execution_count": null,
      "outputs": []
    },
    {
      "cell_type": "markdown",
      "metadata": {
        "id": "n06npFkqjRyu"
      },
      "source": [
        "## Part 2: Data Partitioning (5 points)\n",
        "---\n",
        "Split data into train and test sets. Please use 80\\% for training and 20\\% for testing. Note: \n",
        "> * for COVID-19 dataset you need to split the data in time (the begining 80\\% of the days from start date will be the training data and the remaining 20\\% will be test data).\n",
        "> * for Reuters dataset, we want to have the same distribution of labels in the training and test set, so you can simply use stratified train-test split of Keras. See here: https://scikit-learn.org/stable/modules/generated/sklearn.model_selection.train_test_split.html "
      ]
    },
    {
      "cell_type": "code",
      "metadata": {
        "id": "qXkHnOFujTyT"
      },
      "source": [
        ""
      ],
      "execution_count": null,
      "outputs": []
    },
    {
      "cell_type": "markdown",
      "metadata": {
        "id": "2Rm4cC9djUN7"
      },
      "source": [
        "## Part 3: Simple RNN Model (25 points)\n",
        "---\n",
        "\n",
        "In this part you will create a model using an RNN layer (LSTM or GRU, unidirectional or bidirectional) and train it on your training data. You will also plot training and validation loss and your metric (accuracies (for Reuters data) and mean squared error (for COVID-19 data))."
      ]
    },
    {
      "cell_type": "markdown",
      "metadata": {
        "id": "CGSig5pIjX3p"
      },
      "source": [
        "Compile your model and display the summary:"
      ]
    },
    {
      "cell_type": "code",
      "metadata": {
        "id": "nsXec_OHjl8i"
      },
      "source": [
        ""
      ],
      "execution_count": null,
      "outputs": []
    },
    {
      "cell_type": "markdown",
      "metadata": {
        "id": "5YexvlxijjIo"
      },
      "source": [
        "## Part 5: Looking at the Predictions (20 points)\n",
        "---\n",
        "\n",
        "Now, Using the final (best) model you trained, show your model's performance on the test set.\n",
        "> * For COVID-19 dataset, plot the model's prediction for the number of cases and the actual daily cumulative case numbers.\n",
        "> * For Reuters dataset, calculate and display the prediction accuracy for all of the 46 different classes. "
      ]
    },
    {
      "cell_type": "code",
      "metadata": {
        "id": "0TV7NtyIjmRN"
      },
      "source": [
        ""
      ],
      "execution_count": null,
      "outputs": []
    }
  ]
}