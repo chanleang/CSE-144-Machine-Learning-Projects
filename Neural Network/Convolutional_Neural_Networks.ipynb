{
  "nbformat": 4,
  "nbformat_minor": 0,
  "metadata": {
    "colab": {
      "name": "Convolutional Neural Networks.ipynb",
      "provenance": [],
      "collapsed_sections": []
    },
    "kernelspec": {
      "name": "python3",
      "display_name": "Python 3"
    },
    "accelerator": "GPU"
  },
  "cells": [
    {
      "cell_type": "code",
      "metadata": {
        "id": "2IlwhV0z2nMr"
      },
      "source": [
        "%matplotlib inline"
      ],
      "execution_count": null,
      "outputs": []
    },
    {
      "cell_type": "markdown",
      "metadata": {
        "id": "Chprzdhe2nMw"
      },
      "source": [
        "# Assignment 4\n",
        "\n",
        "**DUE: Sunday February 28, 2021 11:59pm**\n",
        "\n",
        "Turn in the assignment via Canvas.\n",
        "\n",
        "To write legible answers you will need to be familiar with both [Markdown](https://github.com/adam-p/markdown-here/wiki/Markdown-Cheatsheet) and [Latex](https://www.latex-tutorial.com/tutorials/amsmath/)\n",
        "\n",
        "Before you turn this problem in, make sure everything runs as expected. First, restart the kernel (in the menubar, select Runtime→→Restart runtime) and then run all cells (in the menubar, select Runtime→→Run All).\n",
        "\n",
        "Make sure you fill in any place that says \"YOUR CODE HERE\" or \"YOUR ANSWER HERE\", as well as your name below:"
      ]
    },
    {
      "cell_type": "code",
      "metadata": {
        "id": "8jeWubXE2nMx"
      },
      "source": [
        "NAME = \"Kenny Bun\"\n",
        "STUDENT_ID = \"1743837\""
      ],
      "execution_count": null,
      "outputs": []
    },
    {
      "cell_type": "markdown",
      "metadata": {
        "id": "wyRMGyp9Y9c3"
      },
      "source": [
        "1 - Gesture Recognition using Convolutional Neural Networks\n",
        "---\n",
        "American Sign Language (ASL) is a complete, complex language that employs signs made by moving the hands combined with facial expressions and postures of the body. It is the primary language of many North Americans who are deaf and is one of several communication options used by people who are deaf or hard-of-hearing.\n",
        "\n",
        "The hand gestures representing English alphabet are shown below. In this question, you will focus on classifying these hand gesture images using convolutional neural networks. Specifically, given an image of a hand showing one of the letters, we want to detect which letter is being represented.\n",
        "\n",
        "\n",
        "<img src = 'https://drive.google.com/uc?id=1nRxq6yqDkmumUuePXfDx_5YgGl9vKXcj' width=\"300\">\n",
        "\n",
        "\n",
        "\n",
        "\n"
      ]
    },
    {
      "cell_type": "markdown",
      "metadata": {
        "id": "B1U2O-ElzqES"
      },
      "source": [
        "Run the following code cell to download the training and test data. It might take a while to download the zip file and extract it."
      ]
    },
    {
      "cell_type": "code",
      "metadata": {
        "id": "iExiItBkdS8F"
      },
      "source": [
        "from pydrive.auth import GoogleAuth\n",
        "from pydrive.drive import GoogleDrive\n",
        "from google.colab import auth\n",
        "from oauth2client.client import GoogleCredentials\n",
        "import io\n",
        "import zipfile\n",
        "auth.authenticate_user()\n",
        "gauth = GoogleAuth()\n",
        "gauth.credentials = GoogleCredentials.get_application_default()\n",
        "drive = GoogleDrive(gauth)\n",
        "\n",
        "file_id = '1jDDjJzhZ7XV5DMRAEg23ymrz-IjnpGIO'\n",
        "downloaded = drive.CreateFile({'id': file_id})\n",
        "downloaded.GetContentFile('data.zip')\n",
        "\n",
        "zip_ref = zipfile.ZipFile(\"data.zip\", 'r')\n",
        "with zipfile.ZipFile('./data.zip', 'r') as zip_ref:\n",
        "    zip_ref.extractall('./')\n",
        "zip_ref.close()"
      ],
      "execution_count": null,
      "outputs": []
    },
    {
      "cell_type": "code",
      "metadata": {
        "id": "prTKkvlmzlT8"
      },
      "source": [
        "# Personally use to delete the validation files so that I can rerun everything \n",
        "# including create val_files\n",
        "!rm -rf asl_alphabet_train/asl_aphabet_val/"
      ],
      "execution_count": null,
      "outputs": []
    },
    {
      "cell_type": "markdown",
      "metadata": {
        "id": "a2wuuxOO0HuI"
      },
      "source": [
        "Understanding and Processing the Data\n",
        "\n",
        "Now that you downloaded the data, you see two folders containing training and test data. Complete the following steps:\n",
        "\n",
        "1) read in the training and test data. Examine the data folders carefully to see how file names and folder names represent different labels (29 labels in total) in the datasets.\n",
        "\n",
        "2) rescale the pixel values of the training and test images from [0,255] to [0,1].\n",
        "\n",
        "3) make sure that all of your imges are of size $200\\times 200$. If not, scale them appropriately.\n",
        "\n",
        "4) Ensure that your target values (classes) are stored appropriately. You must have 29 classes for 'a-z', 'del', 'nothing', and 'space'."
      ]
    },
    {
      "cell_type": "code",
      "metadata": {
        "colab": {
          "base_uri": "https://localhost:8080/"
        },
        "id": "GuWhfeT-QTyJ",
        "outputId": "0d6f7758-37af-4db9-c8ed-a44346854f8d"
      },
      "source": [
        "import shutil\n",
        "import os\n",
        "import string\n",
        "import numpy as np\n",
        "import matplotlib.pyplot as plt\n",
        "from sklearn.preprocessing import LabelBinarizer\n",
        "from matplotlib import image\n",
        "\n",
        "files = os.listdir()\n",
        "print(files)\n",
        "\n",
        "test_dir = os.path.join('./', 'asl_alphabet_test', 'asl_alphabet_test')\n",
        "tfiles = os.listdir(test_dir)\n",
        "\n",
        "train_dir = './asl_alphabet_train/asl_alphabet_train/'\n",
        "train_files = os.path.join('./', 'asl_alphabet_train', 'asl_alphabet_train')\n",
        "trfiles = os.listdir(train_files)  \n",
        "\n",
        "os.path.join\n",
        "\n",
        "train_root = './asl_alphabet_train/asl_alphabet_train/'\n",
        "test_root= './asl_alphabet_test/asl_alphabet_test/'\n",
        "val_root = './asl_alphabet_train/asl_aphabet_val/'\n",
        "\n",
        "folders = os.listdir(train_root)\n",
        "os.mkdir(val_root)\n",
        "for d in folders:\n",
        "  os.mkdir(val_root + d)\n",
        "\n",
        "for i, label in enumerate(folders):\n",
        "  all_files = os.listdir(train_root + label)\n",
        "  np.random.shuffle(all_files)\n",
        "  if i == 0:\n",
        "    num_train = np.int(.8 * len(all_files))\n",
        "    num_val = num_test = np.int(.2 * len(all_files))\n",
        "  train = all_files[:num_train]\n",
        "  val = all_files[num_train:]\n",
        "\n",
        "  for img in val:\n",
        "    shutil.move(train_root + label + '/' + img, val_root + label + '/')\n",
        "\n",
        "label_map = dict(zip(string.ascii_lowercase, range(0,26)))\n",
        "label_map['del'] = 26\n",
        "label_map['nothing'] = 27\n",
        "label_map['space'] = 28"
      ],
      "execution_count": null,
      "outputs": [
        {
          "output_type": "stream",
          "text": [
            "['.config', 'asl_alphabet_train', 'asl_alphabet_test', 'data.zip', 'adc.json', 'sample_data']\n"
          ],
          "name": "stdout"
        }
      ]
    },
    {
      "cell_type": "code",
      "metadata": {
        "id": "DW1QSLKTSC4t"
      },
      "source": [
        "def load_test_asl_data(directory):\n",
        "  X, y = [], []\n",
        "  count = 0\n",
        "  for filename in os.listdir(directory):\n",
        "    if filename.endswith(\".jpg\"):\n",
        "      img_dir = os.path.join(direcotry, filename)\n",
        "      class_index = filename.partition('_')[0]\n",
        "      asl_img = image.imread(img_dir)\n",
        "      yencode = np.zeros(29)\n",
        "      yencode[label_map[class_index]] = 1\n",
        "      X.append(asl_img)\n",
        "      y.append(yencode)\n",
        "      count += 1\n",
        "  return np.array(X), np.array(y)"
      ],
      "execution_count": null,
      "outputs": []
    },
    {
      "cell_type": "code",
      "metadata": {
        "colab": {
          "base_uri": "https://localhost:8080/"
        },
        "id": "-KlQgF4b5nQ2",
        "outputId": "5698fb38-a11a-4af6-b159-77ad797576b6"
      },
      "source": [
        "from tensorflow.keras.preprocessing.image import ImageDataGenerator\n",
        "import tensorflow as tf\n",
        "\n",
        "with tf.device('/device:GPU:0'): # Doesn't change the runtime too much \n",
        "\n",
        "  #model.compile(loss = 'categorical_crossentropy', optimizer = 'adam', metrics = ['acc'])\n",
        "\n",
        "  train_datagen = ImageDataGenerator(rescale = 1./255)\n",
        "  val_datagen = ImageDataGenerator(rescale = 1./255)\n",
        "\n",
        "  train_generator = train_datagen.flow_from_directory(\n",
        "      train_root, \n",
        "      target_size = (200,200),\n",
        "      batch_size = 30,\n",
        "      class_mode = 'categorical')\n",
        "  \n",
        "  validation_generator = val_datagen.flow_from_directory(\n",
        "      val_root, \n",
        "      target_size = (200,200),\n",
        "      batch_size = 30,\n",
        "      class_mode = 'categorical')"
      ],
      "execution_count": null,
      "outputs": [
        {
          "output_type": "stream",
          "text": [
            "Found 69600 images belonging to 29 classes.\n",
            "Found 17400 images belonging to 29 classes.\n"
          ],
          "name": "stdout"
        }
      ]
    },
    {
      "cell_type": "code",
      "metadata": {
        "id": "Q-cO6KRU6Ph5"
      },
      "source": [
        "# plt.imshow(train)\n",
        "# plt.colorbar()\n",
        "# plt.show()"
      ],
      "execution_count": null,
      "outputs": []
    },
    {
      "cell_type": "markdown",
      "metadata": {
        "id": "v8Ux3Knk3H74"
      },
      "source": [
        "### Part B) Building a Convolutional Neural Network\n",
        "For this assignment, we are not going to give you any starter code. You will be writing a convolutional neural network from scratch. You are welcome to use any code from previous class exercises, section handouts, and lectures. You should also write your own code.\n",
        "\n",
        "You may use the TensorFlow documentation freely. You might also find online tutorials helpful. However, all code that you submit must be your own.\n",
        "\n",
        "Make sure that your code is vectorized, and does not contain obvious inefficiencies (for example, unnecessary for loops). Ensure enough comments are included in the code so that your TA can understand what you are doing. It is your responsibility to show that you understand what you write.\n",
        "\n",
        "Follow the steps below to show your work."
      ]
    },
    {
      "cell_type": "markdown",
      "metadata": {
        "id": "KCPYVJO44BWw"
      },
      "source": [
        "#### Step 1) Building the Network\n",
        "Build a convolutional neural network model that takes the ($200\\times 200$ RGB) image as input, and predicts the letter. Explain your choice of the architecture: how many layers did you choose? What types of layers did you use? Were they fully-connected or convolutional? What about other decisions like pooling layers, activation functions, number of channels / hidden units?"
      ]
    },
    {
      "cell_type": "code",
      "metadata": {
        "id": "NX8vUwnn5YTJ",
        "colab": {
          "base_uri": "https://localhost:8080/"
        },
        "outputId": "f08a2c02-65ed-482e-ecdd-c5b86c1a0c76"
      },
      "source": [
        "### YOUR CODE HERE ###\n",
        "from tensorflow.keras.models import Sequential\n",
        "from tensorflow.keras import Model\n",
        "import tensorflow as tf\n",
        "from tensorflow.keras.layers import Dense\n",
        "from tensorflow.keras.optimizers import Adagrad, Adam, SGD, RMSprop\n",
        "from tensorflow.keras.utils import to_categorical\n",
        "from tensorflow.keras.layers import Dropout, Flatten, Activation, BatchNormalization\n",
        "from tensorflow.keras.layers import Conv2D, MaxPooling2D \n",
        "\n",
        "# Building the architecture of the deep neural network\n",
        "model = Sequential()\n",
        "\n",
        "model.add(Conv2D(filters = 16,      \n",
        "                 kernel_size = (3, 3), \n",
        "                 padding = 'Same',\n",
        "                 activation = 'relu', \n",
        "                 input_shape = (200, 200, 3)))\n",
        "\n",
        "model.add(MaxPooling2D(pool_size = (2, 2)))\n",
        "model.add(BatchNormalization())\n",
        "model.add(Conv2D(filters = 32,      \n",
        "                 kernel_size = (5, 5), \n",
        "                 padding = 'Same',\n",
        "                 activation = 'relu'))\n",
        "\n",
        "model.add(MaxPooling2D(pool_size = (2, 2)))\n",
        "\n",
        "model.add(Flatten())\n",
        "\n",
        "model.add(Dense(128, activation = 'relu'))  \n",
        "\n",
        "model.add(Dense(29, activation = \"softmax\"))\n",
        "\n",
        "model.summary()"
      ],
      "execution_count": null,
      "outputs": [
        {
          "output_type": "stream",
          "text": [
            "Model: \"sequential\"\n",
            "_________________________________________________________________\n",
            "Layer (type)                 Output Shape              Param #   \n",
            "=================================================================\n",
            "conv2d (Conv2D)              (None, 200, 200, 16)      448       \n",
            "_________________________________________________________________\n",
            "max_pooling2d (MaxPooling2D) (None, 100, 100, 16)      0         \n",
            "_________________________________________________________________\n",
            "batch_normalization (BatchNo (None, 100, 100, 16)      64        \n",
            "_________________________________________________________________\n",
            "conv2d_1 (Conv2D)            (None, 100, 100, 32)      12832     \n",
            "_________________________________________________________________\n",
            "max_pooling2d_1 (MaxPooling2 (None, 50, 50, 32)        0         \n",
            "_________________________________________________________________\n",
            "flatten (Flatten)            (None, 80000)             0         \n",
            "_________________________________________________________________\n",
            "dense (Dense)                (None, 128)               10240128  \n",
            "_________________________________________________________________\n",
            "dense_1 (Dense)              (None, 29)                3741      \n",
            "=================================================================\n",
            "Total params: 10,257,213\n",
            "Trainable params: 10,257,181\n",
            "Non-trainable params: 32\n",
            "_________________________________________________________________\n"
          ],
          "name": "stdout"
        }
      ]
    },
    {
      "cell_type": "markdown",
      "metadata": {
        "id": "56Mq94xm5bL_"
      },
      "source": [
        "[I initially chose 10 units and 20 units for shorter runtime, then 16 and 32 for more features in hope of getting a better model. I had 2 layers (I think 3 layers is also good, but I already achieved 99% in accurary and low loss, so I'm happy with 2 layers), and both layers are convolutional. I had 2x2 max pooling to downsample the image for the sake of faster runtime with smaller parameters. I used 'ReLu' activation function.]"
      ]
    },
    {
      "cell_type": "markdown",
      "metadata": {
        "id": "7arv3llO5e6u"
      },
      "source": [
        "#### Step 2) Training the Network\n",
        "Write code that trains your neural network given the training data. Your training code should make it easy to tweak the usual hyperparameters, like batch size, learning rate, and the model object itself. Make sure that you are checkpointing your models from time to time (the frequency is up to you). Explain your choice of loss function and optimizer.\n",
        "\n",
        "Plot the training curve as well."
      ]
    },
    {
      "cell_type": "code",
      "metadata": {
        "id": "fV1ntQiW5vRf",
        "colab": {
          "base_uri": "https://localhost:8080/"
        },
        "outputId": "4e865298-ac6b-464f-e461-70914d7ccf13"
      },
      "source": [
        "### YOUR CODE HERE ###\n",
        "sgd = SGD(lr=0.001, decay=1e-6, momentum=0.9)\n",
        "model.compile(loss = 'categorical_crossentropy', optimizer = sgd, metrics = ['acc'])\n",
        "\n",
        "history = model.fit(\n",
        "  train_generator,\n",
        "  steps_per_epoch = 80,\n",
        "  epochs = 110,\n",
        "  validation_data = validation_generator,\n",
        "  validation_steps = len(validation_generator)//80,\n",
        "  verbose = 1,\n",
        "  shuffle=True)\n",
        "  "
      ],
      "execution_count": null,
      "outputs": [
        {
          "output_type": "stream",
          "text": [
            "Epoch 1/110\n",
            "80/80 [==============================] - 37s 57ms/step - loss: 3.3612 - acc: 0.0657 - val_loss: 3.2704 - val_acc: 0.1190\n",
            "Epoch 2/110\n",
            "80/80 [==============================] - 4s 54ms/step - loss: 2.9585 - acc: 0.1463 - val_loss: 3.1204 - val_acc: 0.1619\n",
            "Epoch 3/110\n",
            "80/80 [==============================] - 4s 54ms/step - loss: 2.5313 - acc: 0.2525 - val_loss: 2.8851 - val_acc: 0.2238\n",
            "Epoch 4/110\n",
            "80/80 [==============================] - 4s 54ms/step - loss: 2.3801 - acc: 0.2846 - val_loss: 2.5891 - val_acc: 0.2857\n",
            "Epoch 5/110\n",
            "80/80 [==============================] - 4s 53ms/step - loss: 2.1370 - acc: 0.3416 - val_loss: 2.3436 - val_acc: 0.2810\n",
            "Epoch 6/110\n",
            "80/80 [==============================] - 4s 52ms/step - loss: 2.0834 - acc: 0.3390 - val_loss: 2.2653 - val_acc: 0.3095\n",
            "Epoch 7/110\n",
            "80/80 [==============================] - 4s 52ms/step - loss: 1.8626 - acc: 0.3956 - val_loss: 1.9281 - val_acc: 0.3619\n",
            "Epoch 8/110\n",
            "80/80 [==============================] - 4s 52ms/step - loss: 1.6679 - acc: 0.4431 - val_loss: 2.0751 - val_acc: 0.3714\n",
            "Epoch 9/110\n",
            "80/80 [==============================] - 4s 53ms/step - loss: 1.5358 - acc: 0.4966 - val_loss: 2.0003 - val_acc: 0.3333\n",
            "Epoch 10/110\n",
            "80/80 [==============================] - 4s 52ms/step - loss: 1.4214 - acc: 0.5070 - val_loss: 1.7165 - val_acc: 0.4381\n",
            "Epoch 11/110\n",
            "80/80 [==============================] - 4s 52ms/step - loss: 1.4055 - acc: 0.5233 - val_loss: 1.5518 - val_acc: 0.4714\n",
            "Epoch 12/110\n",
            "80/80 [==============================] - 4s 52ms/step - loss: 1.2405 - acc: 0.5882 - val_loss: 1.5213 - val_acc: 0.4714\n",
            "Epoch 13/110\n",
            "80/80 [==============================] - 4s 52ms/step - loss: 1.1598 - acc: 0.6017 - val_loss: 1.2658 - val_acc: 0.5619\n",
            "Epoch 14/110\n",
            "80/80 [==============================] - 4s 52ms/step - loss: 1.0744 - acc: 0.6434 - val_loss: 1.1889 - val_acc: 0.6095\n",
            "Epoch 15/110\n",
            "80/80 [==============================] - 4s 52ms/step - loss: 1.0156 - acc: 0.6320 - val_loss: 1.3023 - val_acc: 0.5524\n",
            "Epoch 16/110\n",
            "80/80 [==============================] - 4s 52ms/step - loss: 1.0542 - acc: 0.6480 - val_loss: 1.0057 - val_acc: 0.6524\n",
            "Epoch 17/110\n",
            "80/80 [==============================] - 4s 53ms/step - loss: 0.9411 - acc: 0.6770 - val_loss: 1.1310 - val_acc: 0.6048\n",
            "Epoch 18/110\n",
            "80/80 [==============================] - 4s 52ms/step - loss: 0.8850 - acc: 0.6972 - val_loss: 0.9184 - val_acc: 0.6381\n",
            "Epoch 19/110\n",
            "80/80 [==============================] - 4s 52ms/step - loss: 0.8333 - acc: 0.7265 - val_loss: 0.8361 - val_acc: 0.6714\n",
            "Epoch 20/110\n",
            "80/80 [==============================] - 4s 52ms/step - loss: 0.7984 - acc: 0.7338 - val_loss: 2.4723 - val_acc: 0.4333\n",
            "Epoch 21/110\n",
            "80/80 [==============================] - 4s 52ms/step - loss: 0.7989 - acc: 0.7107 - val_loss: 0.8977 - val_acc: 0.7000\n",
            "Epoch 22/110\n",
            "80/80 [==============================] - 4s 53ms/step - loss: 0.7600 - acc: 0.7410 - val_loss: 1.2666 - val_acc: 0.6000\n",
            "Epoch 23/110\n",
            "80/80 [==============================] - 4s 53ms/step - loss: 0.7299 - acc: 0.7474 - val_loss: 1.1271 - val_acc: 0.5810\n",
            "Epoch 24/110\n",
            "80/80 [==============================] - 4s 52ms/step - loss: 0.7520 - acc: 0.7309 - val_loss: 0.8348 - val_acc: 0.7333\n",
            "Epoch 25/110\n",
            "80/80 [==============================] - 4s 52ms/step - loss: 0.7025 - acc: 0.7648 - val_loss: 2.1474 - val_acc: 0.4952\n",
            "Epoch 26/110\n",
            "80/80 [==============================] - 4s 52ms/step - loss: 0.6304 - acc: 0.7799 - val_loss: 0.8401 - val_acc: 0.7000\n",
            "Epoch 27/110\n",
            "80/80 [==============================] - 4s 53ms/step - loss: 0.5946 - acc: 0.7823 - val_loss: 2.7842 - val_acc: 0.3714\n",
            "Epoch 28/110\n",
            "80/80 [==============================] - 4s 53ms/step - loss: 0.5873 - acc: 0.8058 - val_loss: 2.8014 - val_acc: 0.4048\n",
            "Epoch 29/110\n",
            "80/80 [==============================] - 4s 53ms/step - loss: 0.5183 - acc: 0.8259 - val_loss: 2.3142 - val_acc: 0.4905\n",
            "Epoch 30/110\n",
            "80/80 [==============================] - 4s 53ms/step - loss: 0.4811 - acc: 0.8267 - val_loss: 0.5460 - val_acc: 0.7857\n",
            "Epoch 31/110\n",
            "80/80 [==============================] - 4s 53ms/step - loss: 0.4586 - acc: 0.8352 - val_loss: 1.0012 - val_acc: 0.6619\n",
            "Epoch 32/110\n",
            "80/80 [==============================] - 4s 53ms/step - loss: 0.4914 - acc: 0.8211 - val_loss: 2.5197 - val_acc: 0.4381\n",
            "Epoch 33/110\n",
            "80/80 [==============================] - 4s 53ms/step - loss: 0.4021 - acc: 0.8571 - val_loss: 1.5577 - val_acc: 0.5714\n",
            "Epoch 34/110\n",
            "80/80 [==============================] - 4s 53ms/step - loss: 0.4152 - acc: 0.8534 - val_loss: 1.6163 - val_acc: 0.5476\n",
            "Epoch 35/110\n",
            "80/80 [==============================] - 4s 53ms/step - loss: 0.4447 - acc: 0.8370 - val_loss: 0.4498 - val_acc: 0.8238\n",
            "Epoch 36/110\n",
            "80/80 [==============================] - 4s 54ms/step - loss: 0.3984 - acc: 0.8580 - val_loss: 0.4037 - val_acc: 0.8619\n",
            "Epoch 37/110\n",
            "80/80 [==============================] - 4s 54ms/step - loss: 0.4054 - acc: 0.8565 - val_loss: 0.4576 - val_acc: 0.8714\n",
            "Epoch 38/110\n",
            "80/80 [==============================] - 4s 54ms/step - loss: 0.3966 - acc: 0.8480 - val_loss: 1.1089 - val_acc: 0.6429\n",
            "Epoch 39/110\n",
            "80/80 [==============================] - 4s 54ms/step - loss: 0.4256 - acc: 0.8468 - val_loss: 1.8535 - val_acc: 0.5333\n",
            "Epoch 40/110\n",
            "80/80 [==============================] - 4s 53ms/step - loss: 0.3906 - acc: 0.8701 - val_loss: 0.8708 - val_acc: 0.7143\n",
            "Epoch 41/110\n",
            "80/80 [==============================] - 4s 54ms/step - loss: 0.4123 - acc: 0.8531 - val_loss: 0.5984 - val_acc: 0.7667\n",
            "Epoch 42/110\n",
            "80/80 [==============================] - 4s 54ms/step - loss: 0.3447 - acc: 0.8635 - val_loss: 0.9351 - val_acc: 0.7143\n",
            "Epoch 43/110\n",
            "80/80 [==============================] - 4s 54ms/step - loss: 0.3218 - acc: 0.8865 - val_loss: 0.4900 - val_acc: 0.8429\n",
            "Epoch 44/110\n",
            "80/80 [==============================] - 4s 52ms/step - loss: 0.2975 - acc: 0.8995 - val_loss: 0.4450 - val_acc: 0.8476\n",
            "Epoch 45/110\n",
            "80/80 [==============================] - 4s 52ms/step - loss: 0.3010 - acc: 0.8948 - val_loss: 0.8717 - val_acc: 0.7095\n",
            "Epoch 46/110\n",
            "80/80 [==============================] - 4s 53ms/step - loss: 0.2879 - acc: 0.8956 - val_loss: 0.3472 - val_acc: 0.8762\n",
            "Epoch 47/110\n",
            "80/80 [==============================] - 4s 52ms/step - loss: 0.2624 - acc: 0.9111 - val_loss: 0.5163 - val_acc: 0.8286\n",
            "Epoch 48/110\n",
            "80/80 [==============================] - 4s 52ms/step - loss: 0.2458 - acc: 0.9128 - val_loss: 0.2778 - val_acc: 0.8857\n",
            "Epoch 49/110\n",
            "80/80 [==============================] - 4s 52ms/step - loss: 0.2266 - acc: 0.9183 - val_loss: 1.2155 - val_acc: 0.6524\n",
            "Epoch 50/110\n",
            "80/80 [==============================] - 4s 51ms/step - loss: 0.2807 - acc: 0.9072 - val_loss: 0.2931 - val_acc: 0.9143\n",
            "Epoch 51/110\n",
            "80/80 [==============================] - 4s 52ms/step - loss: 0.2670 - acc: 0.9005 - val_loss: 1.1556 - val_acc: 0.6714\n",
            "Epoch 52/110\n",
            "80/80 [==============================] - 4s 52ms/step - loss: 0.2440 - acc: 0.9184 - val_loss: 0.2241 - val_acc: 0.9143\n",
            "Epoch 53/110\n",
            "80/80 [==============================] - 4s 52ms/step - loss: 0.2049 - acc: 0.9259 - val_loss: 0.5262 - val_acc: 0.8190\n",
            "Epoch 54/110\n",
            "80/80 [==============================] - 4s 53ms/step - loss: 0.1988 - acc: 0.9400 - val_loss: 0.2790 - val_acc: 0.8905\n",
            "Epoch 55/110\n",
            "80/80 [==============================] - 4s 53ms/step - loss: 0.1927 - acc: 0.9343 - val_loss: 1.2177 - val_acc: 0.7000\n",
            "Epoch 56/110\n",
            "80/80 [==============================] - 4s 53ms/step - loss: 0.1710 - acc: 0.9411 - val_loss: 0.2281 - val_acc: 0.9190\n",
            "Epoch 57/110\n",
            "80/80 [==============================] - 4s 52ms/step - loss: 0.1840 - acc: 0.9465 - val_loss: 2.0539 - val_acc: 0.5952\n",
            "Epoch 58/110\n",
            "80/80 [==============================] - 4s 52ms/step - loss: 0.1980 - acc: 0.9351 - val_loss: 0.3588 - val_acc: 0.8762\n",
            "Epoch 59/110\n",
            "80/80 [==============================] - 4s 52ms/step - loss: 0.1896 - acc: 0.9313 - val_loss: 0.4407 - val_acc: 0.8619\n",
            "Epoch 60/110\n",
            "80/80 [==============================] - 4s 54ms/step - loss: 0.1708 - acc: 0.9441 - val_loss: 1.0538 - val_acc: 0.6857\n",
            "Epoch 61/110\n",
            "80/80 [==============================] - 4s 54ms/step - loss: 0.2005 - acc: 0.9256 - val_loss: 1.1369 - val_acc: 0.7000\n",
            "Epoch 62/110\n",
            "80/80 [==============================] - 4s 53ms/step - loss: 0.2249 - acc: 0.9193 - val_loss: 0.2396 - val_acc: 0.9190\n",
            "Epoch 63/110\n",
            "80/80 [==============================] - 4s 52ms/step - loss: 0.1639 - acc: 0.9433 - val_loss: 0.3214 - val_acc: 0.8952\n",
            "Epoch 64/110\n",
            "80/80 [==============================] - 4s 52ms/step - loss: 0.1511 - acc: 0.9446 - val_loss: 3.5567 - val_acc: 0.5000\n",
            "Epoch 65/110\n",
            "80/80 [==============================] - 4s 52ms/step - loss: 0.1472 - acc: 0.9495 - val_loss: 0.5243 - val_acc: 0.8190\n",
            "Epoch 66/110\n",
            "80/80 [==============================] - 4s 52ms/step - loss: 0.1698 - acc: 0.9451 - val_loss: 0.3233 - val_acc: 0.9048\n",
            "Epoch 67/110\n",
            "80/80 [==============================] - 4s 51ms/step - loss: 0.1937 - acc: 0.9367 - val_loss: 0.6028 - val_acc: 0.7667\n",
            "Epoch 68/110\n",
            "80/80 [==============================] - 4s 52ms/step - loss: 0.1481 - acc: 0.9518 - val_loss: 0.2282 - val_acc: 0.9524\n",
            "Epoch 69/110\n",
            "80/80 [==============================] - 4s 52ms/step - loss: 0.1587 - acc: 0.9550 - val_loss: 1.0205 - val_acc: 0.6857\n",
            "Epoch 70/110\n",
            "80/80 [==============================] - 4s 52ms/step - loss: 0.1335 - acc: 0.9508 - val_loss: 0.2730 - val_acc: 0.9000\n",
            "Epoch 71/110\n",
            "80/80 [==============================] - 4s 53ms/step - loss: 0.1554 - acc: 0.9379 - val_loss: 0.5424 - val_acc: 0.7762\n",
            "Epoch 72/110\n",
            "80/80 [==============================] - 4s 52ms/step - loss: 0.1516 - acc: 0.9519 - val_loss: 0.2502 - val_acc: 0.8952\n",
            "Epoch 73/110\n",
            "80/80 [==============================] - 4s 52ms/step - loss: 0.1074 - acc: 0.9647 - val_loss: 0.4266 - val_acc: 0.8571\n",
            "Epoch 74/110\n",
            "80/80 [==============================] - 4s 52ms/step - loss: 0.2024 - acc: 0.9406 - val_loss: 2.5010 - val_acc: 0.6286\n",
            "Epoch 75/110\n",
            "80/80 [==============================] - 4s 53ms/step - loss: 0.1315 - acc: 0.9612 - val_loss: 1.1109 - val_acc: 0.7286\n",
            "Epoch 76/110\n",
            "80/80 [==============================] - 4s 53ms/step - loss: 0.1448 - acc: 0.9412 - val_loss: 0.3855 - val_acc: 0.8810\n",
            "Epoch 77/110\n",
            "80/80 [==============================] - 4s 52ms/step - loss: 0.1347 - acc: 0.9540 - val_loss: 0.1312 - val_acc: 0.9619\n",
            "Epoch 78/110\n",
            "80/80 [==============================] - 4s 53ms/step - loss: 0.1014 - acc: 0.9665 - val_loss: 0.3673 - val_acc: 0.8762\n",
            "Epoch 79/110\n",
            "80/80 [==============================] - 4s 53ms/step - loss: 0.0996 - acc: 0.9710 - val_loss: 0.6496 - val_acc: 0.8190\n",
            "Epoch 80/110\n",
            "80/80 [==============================] - 4s 54ms/step - loss: 0.1206 - acc: 0.9588 - val_loss: 0.2354 - val_acc: 0.9333\n",
            "Epoch 81/110\n",
            "80/80 [==============================] - 4s 53ms/step - loss: 0.1092 - acc: 0.9693 - val_loss: 0.2750 - val_acc: 0.9190\n",
            "Epoch 82/110\n",
            "80/80 [==============================] - 4s 53ms/step - loss: 0.1242 - acc: 0.9555 - val_loss: 0.4952 - val_acc: 0.8667\n",
            "Epoch 83/110\n",
            "80/80 [==============================] - 4s 53ms/step - loss: 0.0966 - acc: 0.9648 - val_loss: 0.1310 - val_acc: 0.9762\n",
            "Epoch 84/110\n",
            "80/80 [==============================] - 4s 52ms/step - loss: 0.0899 - acc: 0.9709 - val_loss: 0.1032 - val_acc: 0.9619\n",
            "Epoch 85/110\n",
            "80/80 [==============================] - 4s 52ms/step - loss: 0.0929 - acc: 0.9686 - val_loss: 0.1289 - val_acc: 0.9619\n",
            "Epoch 86/110\n",
            "80/80 [==============================] - 4s 52ms/step - loss: 0.0602 - acc: 0.9777 - val_loss: 0.3430 - val_acc: 0.8857\n",
            "Epoch 87/110\n",
            "80/80 [==============================] - 4s 53ms/step - loss: 0.0640 - acc: 0.9795 - val_loss: 0.1391 - val_acc: 0.9524\n",
            "Epoch 88/110\n",
            "80/80 [==============================] - 4s 53ms/step - loss: 0.0633 - acc: 0.9852 - val_loss: 0.3106 - val_acc: 0.9048\n",
            "Epoch 89/110\n",
            "80/80 [==============================] - 4s 53ms/step - loss: 0.0627 - acc: 0.9798 - val_loss: 0.3157 - val_acc: 0.8857\n",
            "Epoch 90/110\n",
            "80/80 [==============================] - 4s 53ms/step - loss: 0.0924 - acc: 0.9670 - val_loss: 0.1718 - val_acc: 0.9286\n",
            "Epoch 91/110\n",
            "80/80 [==============================] - 4s 52ms/step - loss: 0.0776 - acc: 0.9773 - val_loss: 0.5968 - val_acc: 0.8048\n",
            "Epoch 92/110\n",
            "80/80 [==============================] - 4s 53ms/step - loss: 0.1436 - acc: 0.9541 - val_loss: 0.5345 - val_acc: 0.8810\n",
            "Epoch 93/110\n",
            "80/80 [==============================] - 4s 53ms/step - loss: 0.1081 - acc: 0.9641 - val_loss: 0.2064 - val_acc: 0.9429\n",
            "Epoch 94/110\n",
            "80/80 [==============================] - 4s 53ms/step - loss: 0.0900 - acc: 0.9656 - val_loss: 0.2175 - val_acc: 0.9238\n",
            "Epoch 95/110\n",
            "80/80 [==============================] - 4s 53ms/step - loss: 0.1319 - acc: 0.9554 - val_loss: 0.3572 - val_acc: 0.8810\n",
            "Epoch 96/110\n",
            "80/80 [==============================] - 4s 52ms/step - loss: 0.0922 - acc: 0.9645 - val_loss: 0.1408 - val_acc: 0.9429\n",
            "Epoch 97/110\n",
            "80/80 [==============================] - 4s 53ms/step - loss: 0.0758 - acc: 0.9734 - val_loss: 0.3132 - val_acc: 0.8952\n",
            "Epoch 98/110\n",
            "80/80 [==============================] - 4s 52ms/step - loss: 0.0968 - acc: 0.9731 - val_loss: 0.5162 - val_acc: 0.8571\n",
            "Epoch 99/110\n",
            "80/80 [==============================] - 4s 53ms/step - loss: 0.0750 - acc: 0.9758 - val_loss: 0.6291 - val_acc: 0.8333\n",
            "Epoch 100/110\n",
            "80/80 [==============================] - 4s 53ms/step - loss: 0.0664 - acc: 0.9779 - val_loss: 0.2107 - val_acc: 0.9381\n",
            "Epoch 101/110\n",
            "80/80 [==============================] - 4s 53ms/step - loss: 0.0592 - acc: 0.9843 - val_loss: 0.1125 - val_acc: 0.9714\n",
            "Epoch 102/110\n",
            "80/80 [==============================] - 4s 53ms/step - loss: 0.0677 - acc: 0.9779 - val_loss: 0.4417 - val_acc: 0.8762\n",
            "Epoch 103/110\n",
            "80/80 [==============================] - 4s 53ms/step - loss: 0.0837 - acc: 0.9719 - val_loss: 0.5661 - val_acc: 0.8524\n",
            "Epoch 104/110\n",
            "80/80 [==============================] - 4s 53ms/step - loss: 0.0566 - acc: 0.9840 - val_loss: 0.3270 - val_acc: 0.8857\n",
            "Epoch 105/110\n",
            "80/80 [==============================] - 4s 54ms/step - loss: 0.0645 - acc: 0.9731 - val_loss: 0.3600 - val_acc: 0.8952\n",
            "Epoch 106/110\n",
            "80/80 [==============================] - 4s 53ms/step - loss: 0.0808 - acc: 0.9750 - val_loss: 0.1160 - val_acc: 0.9476\n",
            "Epoch 107/110\n",
            "80/80 [==============================] - 4s 53ms/step - loss: 0.0783 - acc: 0.9767 - val_loss: 0.0464 - val_acc: 0.9762\n",
            "Epoch 108/110\n",
            "80/80 [==============================] - 4s 53ms/step - loss: 0.0603 - acc: 0.9815 - val_loss: 1.7577 - val_acc: 0.6857\n",
            "Epoch 109/110\n",
            "80/80 [==============================] - 4s 53ms/step - loss: 0.0825 - acc: 0.9738 - val_loss: 0.3942 - val_acc: 0.8857\n",
            "Epoch 110/110\n",
            "80/80 [==============================] - 4s 54ms/step - loss: 0.0608 - acc: 0.9762 - val_loss: 0.1229 - val_acc: 0.9571\n"
          ],
          "name": "stdout"
        }
      ]
    },
    {
      "cell_type": "code",
      "metadata": {
        "colab": {
          "base_uri": "https://localhost:8080/",
          "height": 573
        },
        "id": "159U7jSBz7hT",
        "outputId": "24bfc5d6-0bf1-4838-b76f-decbc055a72b"
      },
      "source": [
        "plt.plot(history.history['loss'])\n",
        "plt.plot(history.history['val_loss'])\n",
        "plt.title('Model Loss')\n",
        "plt.xlabel('Epochs')\n",
        "plt.ylabel('Loss')\n",
        "plt.legend(['train', 'test'])\n",
        "plt.show()\n",
        "\n",
        "plt.plot(history.history['acc'])\n",
        "plt.plot(history.history['val_acc'])\n",
        "plt.title('Model Accuracy')\n",
        "plt.xlabel('Epochs')\n",
        "plt.ylabel('Accuracy')\n",
        "plt.legend(['train', 'test'])\n",
        "plt.show()"
      ],
      "execution_count": null,
      "outputs": [
        {
          "output_type": "display_data",
          "data": {
            "image/png": "[encoded data removed]",
            "text/plain": [
              "<Figure size 432x288 with 1 Axes>"
            ]
          },
          "metadata": {
            "tags": [],
            "needs_background": "light"
          }
        },
        {
          "output_type": "display_data",
          "data": {
            "image/png": "[encoded data removed]",
            "text/plain": [
              "<Figure size 432x288 with 1 Axes>"
            ]
          },
          "metadata": {
            "tags": [],
            "needs_background": "light"
          }
        }
      ]
    },
    {
      "cell_type": "markdown",
      "metadata": {
        "id": "WUFE8Akq5x2M"
      },
      "source": [
        "[As we have multi-classes classification of images, Categorical_crossentropy, also called Softmax Loss, seems to be a good fit the loss funciton. With 100-120 Epochs, the accuracy should be high enough for an acceptable/good model. For the optimizer, I tested both SGD and Adam, it appeared to me the SGD is a bit better than Adam. However, both model accuracy and loss are in the good acceptable state where accuracy is between 97-98% with SGD optimizer accuracy average about 1% higher.]"
      ]
    },
    {
      "cell_type": "markdown",
      "metadata": {
        "id": "dShVlLyX6DFj"
      },
      "source": [
        "#### Step 3) Overfit to A Small Dataset\n",
        "\n",
        "One way to sanity check our neural network model and training code is to check whether the model is capable of overfitting or memorizing a small dataset. A properly constructed CNN with correct training code should be able to memorize the answers to a small number of images quickly.\n",
        "\n",
        "Construct a small dataset (e.g. sample from the training data). Then show that your model and training code is capable of memorizing the labels of this small data set.\n",
        "\n",
        "With a large batch size (e.g. the entire small dataset) and a learning rate that is not too high, you should be able to obtain a 100% training accuracy on that small dataset relatively quickly."
      ]
    },
    {
      "cell_type": "code",
      "metadata": {
        "id": "dVY46l4A5_Dy",
        "colab": {
          "base_uri": "https://localhost:8080/"
        },
        "outputId": "4021145d-4727-4014-e432-625a1af34b64"
      },
      "source": [
        "### YOUR CODE HERE ###\n",
        "X_set, y_set = next(train_generator)\n",
        "model.compile(loss = 'categorical_crossentropy', \n",
        "              optimizer= 'adam', metrics = ['acc'])\n",
        "\n",
        "history = model.fit(\n",
        "  X_set,\n",
        "  y_set,\n",
        "  steps_per_epoch = 3,\n",
        "  epochs = 20,\n",
        "  validation_data = validation_generator,\n",
        "  validation_steps = 20,\n",
        "  verbose = 2)"
      ],
      "execution_count": null,
      "outputs": [
        {
          "output_type": "stream",
          "text": [
            "Epoch 1/20\n",
            "3/3 - 2s - loss: 4.7403 - acc: 0.5667 - val_loss: 10.8926 - val_acc: 0.2817\n",
            "Epoch 2/20\n",
            "3/3 - 1s - loss: 6.2953 - acc: 0.5333 - val_loss: 12.6357 - val_acc: 0.2417\n",
            "Epoch 3/20\n",
            "3/3 - 1s - loss: 0.9388 - acc: 0.7333 - val_loss: 10.3381 - val_acc: 0.3200\n",
            "Epoch 4/20\n",
            "3/3 - 1s - loss: 0.0829 - acc: 0.9333 - val_loss: 12.0861 - val_acc: 0.2783\n",
            "Epoch 5/20\n",
            "3/3 - 1s - loss: 0.3246 - acc: 0.9667 - val_loss: 14.1769 - val_acc: 0.2500\n",
            "Epoch 6/20\n",
            "3/3 - 1s - loss: 0.1087 - acc: 0.9333 - val_loss: 17.9213 - val_acc: 0.2017\n",
            "Epoch 7/20\n",
            "3/3 - 1s - loss: 1.2566e-04 - acc: 1.0000 - val_loss: 19.6490 - val_acc: 0.1833\n",
            "Epoch 8/20\n",
            "3/3 - 1s - loss: 0.0677 - acc: 0.9667 - val_loss: 22.0825 - val_acc: 0.1467\n",
            "Epoch 9/20\n",
            "3/3 - 1s - loss: 5.5130e-05 - acc: 1.0000 - val_loss: 21.3880 - val_acc: 0.1917\n",
            "Epoch 10/20\n",
            "3/3 - 1s - loss: 3.8268e-05 - acc: 1.0000 - val_loss: 21.1407 - val_acc: 0.1683\n",
            "Epoch 11/20\n",
            "3/3 - 1s - loss: 0.0308 - acc: 0.9667 - val_loss: 20.8702 - val_acc: 0.1817\n",
            "Epoch 12/20\n",
            "3/3 - 1s - loss: 9.9098e-05 - acc: 1.0000 - val_loss: 20.6894 - val_acc: 0.1833\n",
            "Epoch 13/20\n",
            "3/3 - 1s - loss: 4.5531e-05 - acc: 1.0000 - val_loss: 18.9378 - val_acc: 0.2150\n",
            "Epoch 14/20\n",
            "3/3 - 1s - loss: 4.9240e-05 - acc: 1.0000 - val_loss: 20.1560 - val_acc: 0.1933\n",
            "Epoch 15/20\n",
            "3/3 - 1s - loss: 2.1018e-05 - acc: 1.0000 - val_loss: 21.0389 - val_acc: 0.1733\n",
            "Epoch 16/20\n",
            "3/3 - 1s - loss: 1.4288e-05 - acc: 1.0000 - val_loss: 19.0567 - val_acc: 0.2017\n",
            "Epoch 17/20\n",
            "3/3 - 1s - loss: 1.2850e-05 - acc: 1.0000 - val_loss: 18.5133 - val_acc: 0.1950\n",
            "Epoch 18/20\n",
            "3/3 - 1s - loss: 1.6632e-05 - acc: 1.0000 - val_loss: 19.2578 - val_acc: 0.2033\n",
            "Epoch 19/20\n",
            "3/3 - 1s - loss: 7.3656e-05 - acc: 1.0000 - val_loss: 18.2388 - val_acc: 0.2233\n",
            "Epoch 20/20\n",
            "3/3 - 1s - loss: 2.5203e-05 - acc: 1.0000 - val_loss: 19.6580 - val_acc: 0.1833\n"
          ],
          "name": "stdout"
        }
      ]
    },
    {
      "cell_type": "markdown",
      "metadata": {
        "id": "OXdVut4462qR"
      },
      "source": [
        "#### Step 4) Hyperparameter Search\n",
        "\n",
        "1. List 3 hyperparameters that you think are most worth tuning. Choose at least one hyperparameter related to the model architecture.\n",
        "\n",
        "2. Tune the hyperparameters you listed previously, trying as many values as you need to until you feel satisfied that you are getting a good model. Plot the training curve of at least 4 different hyperparameter settings.\n",
        "\n",
        "3. Choose the best model out of all the ones that you have trained. Justify your choice.\n",
        "\n",
        "4. Report the test accuracy of your best model. You should only do this step once.\n",
        "\n",
        "\n",
        "\n",
        "\n",
        "\n"
      ]
    },
    {
      "cell_type": "code",
      "metadata": {
        "id": "Q86pN2Tw7UmW",
        "colab": {
          "base_uri": "https://localhost:8080/"
        },
        "outputId": "5b1e4e8e-d298-4808-ba34-415371a09d85"
      },
      "source": [
        "### YOUR CODE HERE ###\n",
        "hyperparam =  Sequential()\n",
        "\n",
        "hyperparam.add(Conv2D(filters = 32,      \n",
        "                 kernel_size = (3, 3), \n",
        "                 padding = 'Same',\n",
        "                 activation = 'relu', \n",
        "                 input_shape = (200, 200, 3)))\n",
        "\n",
        "hyperparam.add(MaxPooling2D(pool_size = (2, 2)))\n",
        "hyperparam.add(BatchNormalization())\n",
        "hyperparam.add(Conv2D(filters = 64,      \n",
        "                 kernel_size = (5, 5), \n",
        "                 padding = 'Same',\n",
        "                 activation = 'relu'))\n",
        "\n",
        "hyperparam.add(MaxPooling2D(pool_size = (2, 2)))\n",
        "\n",
        "hyperparam.add(Flatten())\n",
        "\n",
        "hyperparam.add(Dense(128, activation = 'relu'))  \n",
        "hyperparam.add(Dense(64, activation = 'relu'))  \n",
        "hyperparam.add(Dense(29, activation = \"softmax\"))\n",
        "\n",
        "hyperparam.summary()\n",
        "\n",
        "hyperparam.compile(loss = 'categorical_crossentropy', optimizer = 'adam', metrics = ['acc'])\n",
        "\n",
        "history = hyperparam.fit(\n",
        "  train_generator,\n",
        "  steps_per_epoch = 80,\n",
        "  epochs = 100,\n",
        "  validation_data = validation_generator,\n",
        "  validation_steps = len(validation_generator)//80,\n",
        "  verbose = 1)"
      ],
      "execution_count": null,
      "outputs": [
        {
          "output_type": "stream",
          "text": [
            "Model: \"sequential_1\"\n",
            "_________________________________________________________________\n",
            "Layer (type)                 Output Shape              Param #   \n",
            "=================================================================\n",
            "conv2d_2 (Conv2D)            (None, 200, 200, 32)      896       \n",
            "_________________________________________________________________\n",
            "max_pooling2d_2 (MaxPooling2 (None, 100, 100, 32)      0         \n",
            "_________________________________________________________________\n",
            "batch_normalization_1 (Batch (None, 100, 100, 32)      128       \n",
            "_________________________________________________________________\n",
            "conv2d_3 (Conv2D)            (None, 100, 100, 64)      51264     \n",
            "_________________________________________________________________\n",
            "max_pooling2d_3 (MaxPooling2 (None, 50, 50, 64)        0         \n",
            "_________________________________________________________________\n",
            "flatten_1 (Flatten)          (None, 160000)            0         \n",
            "_________________________________________________________________\n",
            "dense_2 (Dense)              (None, 128)               20480128  \n",
            "_________________________________________________________________\n",
            "dense_3 (Dense)              (None, 64)                8256      \n",
            "_________________________________________________________________\n",
            "dense_4 (Dense)              (None, 29)                1885      \n",
            "=================================================================\n",
            "Total params: 20,542,557\n",
            "Trainable params: 20,542,493\n",
            "Non-trainable params: 64\n",
            "_________________________________________________________________\n",
            "Epoch 1/100\n",
            "80/80 [==============================] - 6s 66ms/step - loss: 8.1587 - acc: 0.0442 - val_loss: 3.3678 - val_acc: 0.0238\n",
            "Epoch 2/100\n",
            "80/80 [==============================] - 5s 61ms/step - loss: 2.9340 - acc: 0.1586 - val_loss: 3.3047 - val_acc: 0.1429\n",
            "Epoch 3/100\n",
            "80/80 [==============================] - 5s 61ms/step - loss: 2.3776 - acc: 0.2743 - val_loss: 3.2606 - val_acc: 0.1857\n",
            "Epoch 4/100\n",
            "80/80 [==============================] - 5s 60ms/step - loss: 2.0035 - acc: 0.3449 - val_loss: 3.0568 - val_acc: 0.2952\n",
            "Epoch 5/100\n",
            "80/80 [==============================] - 5s 60ms/step - loss: 1.7311 - acc: 0.4382 - val_loss: 2.7252 - val_acc: 0.2571\n",
            "Epoch 6/100\n",
            "80/80 [==============================] - 5s 60ms/step - loss: 1.4595 - acc: 0.5139 - val_loss: 2.2100 - val_acc: 0.4429\n",
            "Epoch 7/100\n",
            "80/80 [==============================] - 5s 60ms/step - loss: 1.2306 - acc: 0.5898 - val_loss: 1.3611 - val_acc: 0.5810\n",
            "Epoch 8/100\n",
            "80/80 [==============================] - 5s 61ms/step - loss: 1.0474 - acc: 0.6460 - val_loss: 1.8349 - val_acc: 0.3762\n",
            "Epoch 9/100\n",
            "80/80 [==============================] - 5s 60ms/step - loss: 0.9045 - acc: 0.6884 - val_loss: 1.4131 - val_acc: 0.5524\n",
            "Epoch 10/100\n",
            "80/80 [==============================] - 5s 60ms/step - loss: 0.8342 - acc: 0.6976 - val_loss: 1.4297 - val_acc: 0.5286\n",
            "Epoch 11/100\n",
            "80/80 [==============================] - 5s 61ms/step - loss: 0.6795 - acc: 0.7516 - val_loss: 0.7661 - val_acc: 0.7333\n",
            "Epoch 12/100\n",
            "80/80 [==============================] - 5s 61ms/step - loss: 0.6400 - acc: 0.7667 - val_loss: 0.8258 - val_acc: 0.7333\n",
            "Epoch 13/100\n",
            "80/80 [==============================] - 5s 61ms/step - loss: 0.5720 - acc: 0.8013 - val_loss: 0.7452 - val_acc: 0.7333\n",
            "Epoch 14/100\n",
            "80/80 [==============================] - 5s 60ms/step - loss: 0.5856 - acc: 0.7953 - val_loss: 1.1176 - val_acc: 0.6333\n",
            "Epoch 15/100\n",
            "80/80 [==============================] - 5s 61ms/step - loss: 0.4993 - acc: 0.8316 - val_loss: 0.4087 - val_acc: 0.8619\n",
            "Epoch 16/100\n",
            "80/80 [==============================] - 5s 61ms/step - loss: 0.3852 - acc: 0.8697 - val_loss: 0.4102 - val_acc: 0.8571\n",
            "Epoch 17/100\n",
            "80/80 [==============================] - 5s 60ms/step - loss: 0.3520 - acc: 0.8845 - val_loss: 1.3951 - val_acc: 0.6571\n",
            "Epoch 18/100\n",
            "80/80 [==============================] - 5s 60ms/step - loss: 0.3492 - acc: 0.8807 - val_loss: 0.4125 - val_acc: 0.8286\n",
            "Epoch 19/100\n",
            "80/80 [==============================] - 5s 60ms/step - loss: 0.2952 - acc: 0.8949 - val_loss: 0.6554 - val_acc: 0.7667\n",
            "Epoch 20/100\n",
            "80/80 [==============================] - 5s 59ms/step - loss: 0.3433 - acc: 0.8811 - val_loss: 0.3788 - val_acc: 0.8619\n",
            "Epoch 21/100\n",
            "80/80 [==============================] - 5s 60ms/step - loss: 0.3370 - acc: 0.8870 - val_loss: 0.7805 - val_acc: 0.7190\n",
            "Epoch 22/100\n",
            "80/80 [==============================] - 5s 59ms/step - loss: 0.3632 - acc: 0.8716 - val_loss: 0.3907 - val_acc: 0.9000\n",
            "Epoch 23/100\n",
            "80/80 [==============================] - 5s 60ms/step - loss: 0.2802 - acc: 0.9018 - val_loss: 0.6257 - val_acc: 0.8000\n",
            "Epoch 24/100\n",
            "80/80 [==============================] - 5s 59ms/step - loss: 0.2804 - acc: 0.9011 - val_loss: 0.4388 - val_acc: 0.8381\n",
            "Epoch 25/100\n",
            "80/80 [==============================] - 5s 59ms/step - loss: 0.2263 - acc: 0.9225 - val_loss: 0.6565 - val_acc: 0.7952\n",
            "Epoch 26/100\n",
            "80/80 [==============================] - 5s 60ms/step - loss: 0.2719 - acc: 0.8976 - val_loss: 0.5806 - val_acc: 0.8143\n",
            "Epoch 27/100\n",
            "80/80 [==============================] - 5s 58ms/step - loss: 0.2071 - acc: 0.9246 - val_loss: 1.3788 - val_acc: 0.6524\n",
            "Epoch 28/100\n",
            "80/80 [==============================] - 5s 59ms/step - loss: 0.2734 - acc: 0.8991 - val_loss: 0.2347 - val_acc: 0.9190\n",
            "Epoch 29/100\n",
            "80/80 [==============================] - 5s 59ms/step - loss: 0.1867 - acc: 0.9311 - val_loss: 0.3432 - val_acc: 0.8762\n",
            "Epoch 30/100\n",
            "80/80 [==============================] - 5s 60ms/step - loss: 0.1899 - acc: 0.9368 - val_loss: 0.4092 - val_acc: 0.8905\n",
            "Epoch 31/100\n",
            "80/80 [==============================] - 5s 60ms/step - loss: 0.1771 - acc: 0.9400 - val_loss: 0.3853 - val_acc: 0.8857\n",
            "Epoch 32/100\n",
            "80/80 [==============================] - 5s 59ms/step - loss: 0.2251 - acc: 0.9256 - val_loss: 0.2558 - val_acc: 0.9143\n",
            "Epoch 33/100\n",
            "80/80 [==============================] - 5s 60ms/step - loss: 0.1963 - acc: 0.9322 - val_loss: 0.2240 - val_acc: 0.9190\n",
            "Epoch 34/100\n",
            "80/80 [==============================] - 5s 59ms/step - loss: 0.1744 - acc: 0.9450 - val_loss: 0.2184 - val_acc: 0.9429\n",
            "Epoch 35/100\n",
            "80/80 [==============================] - 5s 60ms/step - loss: 0.1604 - acc: 0.9527 - val_loss: 0.7515 - val_acc: 0.7952\n",
            "Epoch 36/100\n",
            "80/80 [==============================] - 5s 61ms/step - loss: 0.1857 - acc: 0.9370 - val_loss: 0.4174 - val_acc: 0.8762\n",
            "Epoch 37/100\n",
            "80/80 [==============================] - 5s 60ms/step - loss: 0.1635 - acc: 0.9503 - val_loss: 0.4446 - val_acc: 0.8667\n",
            "Epoch 38/100\n",
            "80/80 [==============================] - 5s 60ms/step - loss: 0.1653 - acc: 0.9483 - val_loss: 2.6211 - val_acc: 0.5762\n",
            "Epoch 39/100\n",
            "80/80 [==============================] - 5s 58ms/step - loss: 0.1997 - acc: 0.9346 - val_loss: 0.4806 - val_acc: 0.8619\n",
            "Epoch 40/100\n",
            "80/80 [==============================] - 5s 58ms/step - loss: 0.1675 - acc: 0.9376 - val_loss: 0.2151 - val_acc: 0.9333\n",
            "Epoch 41/100\n",
            "80/80 [==============================] - 5s 59ms/step - loss: 0.1481 - acc: 0.9475 - val_loss: 0.2324 - val_acc: 0.9190\n",
            "Epoch 42/100\n",
            "80/80 [==============================] - 5s 60ms/step - loss: 0.1615 - acc: 0.9532 - val_loss: 0.9495 - val_acc: 0.7714\n",
            "Epoch 43/100\n",
            "80/80 [==============================] - 5s 61ms/step - loss: 0.2051 - acc: 0.9310 - val_loss: 0.5479 - val_acc: 0.8429\n",
            "Epoch 44/100\n",
            "80/80 [==============================] - 5s 59ms/step - loss: 0.1665 - acc: 0.9508 - val_loss: 2.2428 - val_acc: 0.6095\n",
            "Epoch 45/100\n",
            "80/80 [==============================] - 5s 61ms/step - loss: 0.2076 - acc: 0.9314 - val_loss: 0.7324 - val_acc: 0.7905\n",
            "Epoch 46/100\n",
            "80/80 [==============================] - 5s 60ms/step - loss: 0.1297 - acc: 0.9618 - val_loss: 3.7321 - val_acc: 0.6381\n",
            "Epoch 47/100\n",
            "80/80 [==============================] - 5s 60ms/step - loss: 0.1197 - acc: 0.9512 - val_loss: 0.2034 - val_acc: 0.9476\n",
            "Epoch 48/100\n",
            "80/80 [==============================] - 5s 60ms/step - loss: 0.1263 - acc: 0.9568 - val_loss: 0.6062 - val_acc: 0.8238\n",
            "Epoch 49/100\n",
            "80/80 [==============================] - 5s 59ms/step - loss: 0.1187 - acc: 0.9578 - val_loss: 0.4172 - val_acc: 0.8476\n",
            "Epoch 50/100\n",
            "80/80 [==============================] - 5s 58ms/step - loss: 0.1374 - acc: 0.9540 - val_loss: 0.2108 - val_acc: 0.9333\n",
            "Epoch 51/100\n",
            "80/80 [==============================] - 5s 59ms/step - loss: 0.1246 - acc: 0.9637 - val_loss: 0.5266 - val_acc: 0.9000\n",
            "Epoch 52/100\n",
            "80/80 [==============================] - 5s 58ms/step - loss: 0.0827 - acc: 0.9688 - val_loss: 0.1910 - val_acc: 0.9286\n",
            "Epoch 53/100\n",
            "80/80 [==============================] - 5s 58ms/step - loss: 0.1066 - acc: 0.9594 - val_loss: 0.1227 - val_acc: 0.9667\n",
            "Epoch 54/100\n",
            "80/80 [==============================] - 5s 58ms/step - loss: 0.1200 - acc: 0.9598 - val_loss: 0.6456 - val_acc: 0.8238\n",
            "Epoch 55/100\n",
            "80/80 [==============================] - 5s 58ms/step - loss: 0.1614 - acc: 0.9546 - val_loss: 0.1452 - val_acc: 0.9476\n",
            "Epoch 56/100\n",
            "80/80 [==============================] - 5s 59ms/step - loss: 0.0946 - acc: 0.9718 - val_loss: 0.3029 - val_acc: 0.9190\n",
            "Epoch 57/100\n",
            "80/80 [==============================] - 5s 60ms/step - loss: 0.1125 - acc: 0.9670 - val_loss: 0.8576 - val_acc: 0.8238\n",
            "Epoch 58/100\n",
            "80/80 [==============================] - 5s 58ms/step - loss: 0.1110 - acc: 0.9675 - val_loss: 0.1996 - val_acc: 0.9381\n",
            "Epoch 59/100\n",
            "80/80 [==============================] - 5s 58ms/step - loss: 0.0929 - acc: 0.9687 - val_loss: 0.3232 - val_acc: 0.9000\n",
            "Epoch 60/100\n",
            "80/80 [==============================] - 5s 58ms/step - loss: 0.0963 - acc: 0.9722 - val_loss: 0.0961 - val_acc: 0.9619\n",
            "Epoch 61/100\n",
            "80/80 [==============================] - 5s 58ms/step - loss: 0.0847 - acc: 0.9699 - val_loss: 8.3024 - val_acc: 0.4286\n",
            "Epoch 62/100\n",
            "80/80 [==============================] - 5s 59ms/step - loss: 0.1392 - acc: 0.9589 - val_loss: 1.4036 - val_acc: 0.7667\n",
            "Epoch 63/100\n",
            "80/80 [==============================] - 5s 60ms/step - loss: 0.1225 - acc: 0.9570 - val_loss: 0.4410 - val_acc: 0.8810\n",
            "Epoch 64/100\n",
            "80/80 [==============================] - 5s 60ms/step - loss: 0.1134 - acc: 0.9641 - val_loss: 0.2211 - val_acc: 0.9476\n",
            "Epoch 65/100\n",
            "80/80 [==============================] - 5s 59ms/step - loss: 0.0882 - acc: 0.9703 - val_loss: 0.1934 - val_acc: 0.9476\n",
            "Epoch 66/100\n",
            "80/80 [==============================] - 5s 59ms/step - loss: 0.0987 - acc: 0.9682 - val_loss: 0.1481 - val_acc: 0.9571\n",
            "Epoch 67/100\n",
            "80/80 [==============================] - 5s 60ms/step - loss: 0.0694 - acc: 0.9757 - val_loss: 0.7017 - val_acc: 0.8048\n",
            "Epoch 68/100\n",
            "80/80 [==============================] - 5s 60ms/step - loss: 0.0939 - acc: 0.9655 - val_loss: 0.1350 - val_acc: 0.9571\n",
            "Epoch 69/100\n",
            "80/80 [==============================] - 5s 60ms/step - loss: 0.0490 - acc: 0.9851 - val_loss: 0.1757 - val_acc: 0.9429\n",
            "Epoch 70/100\n",
            "80/80 [==============================] - 5s 60ms/step - loss: 0.0611 - acc: 0.9808 - val_loss: 0.2550 - val_acc: 0.9286\n",
            "Epoch 71/100\n",
            "80/80 [==============================] - 5s 60ms/step - loss: 0.0924 - acc: 0.9661 - val_loss: 0.1685 - val_acc: 0.9619\n",
            "Epoch 72/100\n",
            "80/80 [==============================] - 5s 59ms/step - loss: 0.1116 - acc: 0.9655 - val_loss: 0.1066 - val_acc: 0.9476\n",
            "Epoch 73/100\n",
            "80/80 [==============================] - 5s 59ms/step - loss: 0.0949 - acc: 0.9725 - val_loss: 0.1826 - val_acc: 0.9476\n",
            "Epoch 74/100\n",
            "80/80 [==============================] - 5s 59ms/step - loss: 0.0771 - acc: 0.9792 - val_loss: 0.4814 - val_acc: 0.8762\n",
            "Epoch 75/100\n",
            "80/80 [==============================] - 5s 60ms/step - loss: 0.0934 - acc: 0.9707 - val_loss: 0.2343 - val_acc: 0.9143\n",
            "Epoch 76/100\n",
            "80/80 [==============================] - 5s 61ms/step - loss: 0.1194 - acc: 0.9575 - val_loss: 0.6017 - val_acc: 0.8190\n",
            "Epoch 77/100\n",
            "80/80 [==============================] - 5s 60ms/step - loss: 0.1382 - acc: 0.9535 - val_loss: 0.2347 - val_acc: 0.9190\n",
            "Epoch 78/100\n",
            "80/80 [==============================] - 5s 60ms/step - loss: 0.1123 - acc: 0.9670 - val_loss: 0.0726 - val_acc: 0.9667\n",
            "Epoch 79/100\n",
            "80/80 [==============================] - 5s 60ms/step - loss: 0.0711 - acc: 0.9760 - val_loss: 0.1320 - val_acc: 0.9524\n",
            "Epoch 80/100\n",
            "80/80 [==============================] - 5s 60ms/step - loss: 0.0868 - acc: 0.9753 - val_loss: 0.0880 - val_acc: 0.9714\n",
            "Epoch 81/100\n",
            "80/80 [==============================] - 5s 59ms/step - loss: 0.0500 - acc: 0.9843 - val_loss: 0.1983 - val_acc: 0.9476\n",
            "Epoch 82/100\n",
            "80/80 [==============================] - 5s 60ms/step - loss: 0.0795 - acc: 0.9786 - val_loss: 0.1454 - val_acc: 0.9619\n",
            "Epoch 83/100\n",
            "80/80 [==============================] - 5s 59ms/step - loss: 0.0589 - acc: 0.9786 - val_loss: 0.8159 - val_acc: 0.8476\n",
            "Epoch 84/100\n",
            "80/80 [==============================] - 5s 59ms/step - loss: 0.1001 - acc: 0.9704 - val_loss: 0.1609 - val_acc: 0.9381\n",
            "Epoch 85/100\n",
            "80/80 [==============================] - 5s 60ms/step - loss: 0.0565 - acc: 0.9784 - val_loss: 0.1821 - val_acc: 0.9524\n",
            "Epoch 86/100\n",
            "80/80 [==============================] - 5s 62ms/step - loss: 0.1103 - acc: 0.9704 - val_loss: 0.1377 - val_acc: 0.9333\n",
            "Epoch 87/100\n",
            "80/80 [==============================] - 5s 60ms/step - loss: 0.0477 - acc: 0.9862 - val_loss: 0.1067 - val_acc: 0.9714\n",
            "Epoch 88/100\n",
            "80/80 [==============================] - 5s 60ms/step - loss: 0.0420 - acc: 0.9878 - val_loss: 0.1288 - val_acc: 0.9667\n",
            "Epoch 89/100\n",
            "80/80 [==============================] - 5s 60ms/step - loss: 0.0954 - acc: 0.9757 - val_loss: 0.3554 - val_acc: 0.8952\n",
            "Epoch 90/100\n",
            "80/80 [==============================] - 5s 61ms/step - loss: 0.0458 - acc: 0.9824 - val_loss: 0.1190 - val_acc: 0.9619\n",
            "Epoch 91/100\n",
            "80/80 [==============================] - 5s 63ms/step - loss: 0.0921 - acc: 0.9715 - val_loss: 0.1555 - val_acc: 0.9619\n",
            "Epoch 92/100\n",
            "80/80 [==============================] - 5s 63ms/step - loss: 0.0490 - acc: 0.9810 - val_loss: 0.1192 - val_acc: 0.9476\n",
            "Epoch 93/100\n",
            "80/80 [==============================] - 5s 63ms/step - loss: 0.0663 - acc: 0.9801 - val_loss: 0.5187 - val_acc: 0.8667\n",
            "Epoch 94/100\n",
            "80/80 [==============================] - 5s 62ms/step - loss: 0.1232 - acc: 0.9608 - val_loss: 0.4381 - val_acc: 0.8429\n",
            "Epoch 95/100\n",
            "80/80 [==============================] - 5s 63ms/step - loss: 0.1500 - acc: 0.9525 - val_loss: 0.2202 - val_acc: 0.9381\n",
            "Epoch 96/100\n",
            "80/80 [==============================] - 5s 64ms/step - loss: 0.0994 - acc: 0.9753 - val_loss: 0.1351 - val_acc: 0.9381\n",
            "Epoch 97/100\n",
            "80/80 [==============================] - 5s 63ms/step - loss: 0.0627 - acc: 0.9822 - val_loss: 0.1228 - val_acc: 0.9762\n",
            "Epoch 98/100\n",
            "80/80 [==============================] - 5s 63ms/step - loss: 0.0367 - acc: 0.9872 - val_loss: 0.0329 - val_acc: 0.9905\n",
            "Epoch 99/100\n",
            "80/80 [==============================] - 5s 63ms/step - loss: 0.0606 - acc: 0.9785 - val_loss: 0.0864 - val_acc: 0.9714\n",
            "Epoch 100/100\n",
            "80/80 [==============================] - 5s 63ms/step - loss: 0.0527 - acc: 0.9880 - val_loss: 0.1538 - val_acc: 0.9571\n"
          ],
          "name": "stdout"
        }
      ]
    },
    {
      "cell_type": "code",
      "metadata": {
        "id": "jN_0jPb1xmMv",
        "colab": {
          "base_uri": "https://localhost:8080/",
          "height": 573
        },
        "outputId": "bbe146f6-0700-4135-d6b3-5b30d5a5c9da"
      },
      "source": [
        "plt.plot(history.history['loss'])\n",
        "plt.plot(history.history['val_loss'])\n",
        "plt.title('Model Loss')\n",
        "plt.xlabel('Epochs')\n",
        "plt.ylabel('Loss')\n",
        "plt.legend(['train', 'test'])\n",
        "plt.show()\n",
        "\n",
        "plt.plot(history.history['acc'])\n",
        "plt.plot(history.history['val_acc'])\n",
        "plt.title('Model Accuracy')\n",
        "plt.xlabel('Epochs')\n",
        "plt.ylabel('Accuracy')\n",
        "plt.legend(['train', 'test'])\n",
        "plt.show()"
      ],
      "execution_count": null,
      "outputs": [
        {
          "output_type": "display_data",
          "data": {
            "image/png": "[encoded data removed]",
            "text/plain": [
              "<Figure size 432x288 with 1 Axes>"
            ]
          },
          "metadata": {
            "tags": [],
            "needs_background": "light"
          }
        },
        {
          "output_type": "display_data",
          "data": {
            "image/png": "[encoded data removed]",
            "text/plain": [
              "<Figure size 432x288 with 1 Axes>"
            ]
          },
          "metadata": {
            "tags": [],
            "needs_background": "light"
          }
        }
      ]
    },
    {
      "cell_type": "markdown",
      "metadata": {
        "id": "vlfZqKrW7YJu"
      },
      "source": [
        "[The three hyperparameters that are worth tuing are max pooling, dense, and filters in Conv2D. These hyperparameter helps determine the runtime of the model, the high accuracy, and low loss. After many attempt in tuning the hyperparameters, I found that the first choice of model seems the best in terms of faster runtime, and the accuracy and loss average about the same with the first model is slightly better. They both achieved 98-99% accuracy, but slightly higher loss than the first model.]"
      ]
    },
    {
      "cell_type": "markdown",
      "metadata": {
        "id": "L6t_qjLr7-uf"
      },
      "source": [
        "## Question 2 - Transfer Learning\n",
        "---\n",
        "For many image classification tasks, it is generally not a good idea to train a very large deep neural network model from scratch due to the enormous compute requirements and lack of sufficient amounts of training data.\n",
        "\n",
        "One of the better options is to try using an existing model that performs a similar task to the one you need to solve. This method of utilizing a pre-trained network for other similar tasks is broadly termed Transfer Learning. In this assignment, we will use Transfer Learning to extract features from the hand gesture images. Then, train a smaller network to use these features as input and classify the hand gestures.\n",
        "\n",
        "As you have learned from the CNN lecture, convolution layers extract various features from the images which get utilized by the fully connected layers for correct classification.\n"
      ]
    },
    {
      "cell_type": "markdown",
      "metadata": {
        "id": "UHk-PPM8KfZW"
      },
      "source": [
        "Keras even has pretrained models built in for this purpose. \n",
        "\n",
        "#### Keras Pretrained Models\n",
        "        Xception\n",
        "        VGG16\n",
        "        VGG19\n",
        "        ResNet, ResNetV2, ResNeXt\n",
        "        InceptionV3\n",
        "        InceptionResNetV2\n",
        "        MobileNet\n",
        "        MobileNetV2\n",
        "        DenseNet\n",
        "        NASNet\n",
        "\n",
        "Usually one uses the layers of the pretrained model up to some point, and then creates some fully connected layers to learn the desired recognition task. The earlier layers are \"frozen\", and only the later layers need to be trained. We'll use VGG16, which was trained to recognize 1000 objects in ImageNet. What we're doing here for our classifier may be akin to killing a fly with a shotgun, but the same process can be used to recognize objects the original network couldn't (i.e., you could use this technique to train your computer to recognize family and friends)."
      ]
    },
    {
      "cell_type": "code",
      "metadata": {
        "id": "Z7CNXqACKgQz"
      },
      "source": [
        "# Some stuff we'll need...\n",
        "from tensorflow.keras.layers import Input\n",
        "from tensorflow.keras.applications.vgg16 import VGG16, preprocess_input\n",
        "from tensorflow.keras.preprocessing import image\n",
        "from tensorflow.keras.models import Model"
      ],
      "execution_count": null,
      "outputs": []
    },
    {
      "cell_type": "markdown",
      "metadata": {
        "id": "F4FK6jBJKxcC"
      },
      "source": [
        "Creating this pretrained network is a one line command. Notice we specified that the \"top\" should not be included. We aren't classifying 1000 different categories like ImageNet, so we don't include that layer. We'll add our own layer more suited to the task at hand.\n",
        "\n",
        "We choose 224 as our image dimension because the pretrained VGG16 was trained using the ImageNet dataset which has images of this dimension."
      ]
    },
    {
      "cell_type": "code",
      "metadata": {
        "id": "KR7DziD7KqEX",
        "colab": {
          "base_uri": "https://localhost:8080/"
        },
        "outputId": "15b18783-bbb3-4fac-eb77-e5202b2ae71e"
      },
      "source": [
        "# Import the VGG16 trained neural network model, minus it's last (top) neuron layer.\n",
        "base_model = VGG16(weights = 'imagenet', \n",
        "                   include_top = False, \n",
        "                   input_shape = (200, 200, 3), \n",
        "                   pooling = None)"
      ],
      "execution_count": null,
      "outputs": [
        {
          "output_type": "stream",
          "text": [
            "Downloading data from https://storage.googleapis.com/tensorflow/keras-applications/vgg16/vgg16_weights_tf_dim_ordering_tf_kernels_notop.h5\n",
            "58892288/58889256 [==============================] - 0s 0us/step\n"
          ],
          "name": "stdout"
        }
      ]
    },
    {
      "cell_type": "markdown",
      "metadata": {
        "id": "B6HReXu8K3wh"
      },
      "source": [
        "Let's take a look at this pretrained model:"
      ]
    },
    {
      "cell_type": "code",
      "metadata": {
        "id": "gPhnajBAKyKm",
        "colab": {
          "base_uri": "https://localhost:8080/"
        },
        "outputId": "cdbecf3d-eb85-430f-8195-fd92921872eb"
      },
      "source": [
        "base_model.summary()"
      ],
      "execution_count": null,
      "outputs": [
        {
          "output_type": "stream",
          "text": [
            "Model: \"vgg16\"\n",
            "_________________________________________________________________\n",
            "Layer (type)                 Output Shape              Param #   \n",
            "=================================================================\n",
            "input_1 (InputLayer)         [(None, 200, 200, 3)]     0         \n",
            "_________________________________________________________________\n",
            "block1_conv1 (Conv2D)        (None, 200, 200, 64)      1792      \n",
            "_________________________________________________________________\n",
            "block1_conv2 (Conv2D)        (None, 200, 200, 64)      36928     \n",
            "_________________________________________________________________\n",
            "block1_pool (MaxPooling2D)   (None, 100, 100, 64)      0         \n",
            "_________________________________________________________________\n",
            "block2_conv1 (Conv2D)        (None, 100, 100, 128)     73856     \n",
            "_________________________________________________________________\n",
            "block2_conv2 (Conv2D)        (None, 100, 100, 128)     147584    \n",
            "_________________________________________________________________\n",
            "block2_pool (MaxPooling2D)   (None, 50, 50, 128)       0         \n",
            "_________________________________________________________________\n",
            "block3_conv1 (Conv2D)        (None, 50, 50, 256)       295168    \n",
            "_________________________________________________________________\n",
            "block3_conv2 (Conv2D)        (None, 50, 50, 256)       590080    \n",
            "_________________________________________________________________\n",
            "block3_conv3 (Conv2D)        (None, 50, 50, 256)       590080    \n",
            "_________________________________________________________________\n",
            "block3_pool (MaxPooling2D)   (None, 25, 25, 256)       0         \n",
            "_________________________________________________________________\n",
            "block4_conv1 (Conv2D)        (None, 25, 25, 512)       1180160   \n",
            "_________________________________________________________________\n",
            "block4_conv2 (Conv2D)        (None, 25, 25, 512)       2359808   \n",
            "_________________________________________________________________\n",
            "block4_conv3 (Conv2D)        (None, 25, 25, 512)       2359808   \n",
            "_________________________________________________________________\n",
            "block4_pool (MaxPooling2D)   (None, 12, 12, 512)       0         \n",
            "_________________________________________________________________\n",
            "block5_conv1 (Conv2D)        (None, 12, 12, 512)       2359808   \n",
            "_________________________________________________________________\n",
            "block5_conv2 (Conv2D)        (None, 12, 12, 512)       2359808   \n",
            "_________________________________________________________________\n",
            "block5_conv3 (Conv2D)        (None, 12, 12, 512)       2359808   \n",
            "_________________________________________________________________\n",
            "block5_pool (MaxPooling2D)   (None, 6, 6, 512)         0         \n",
            "=================================================================\n",
            "Total params: 14,714,688\n",
            "Trainable params: 14,714,688\n",
            "Non-trainable params: 0\n",
            "_________________________________________________________________\n"
          ],
          "name": "stdout"
        }
      ]
    },
    {
      "cell_type": "markdown",
      "metadata": {
        "id": "OEeQ9WXTLA6i"
      },
      "source": [
        "Please do realize, this may be overkill for our toy recognition task. One could use this network with some layers (as we're about to add) to recognize 100 dog breeds or to recognize all your friends. If you wanted to recognize 100 dog breeds, you would use a final 100 neuron softmax for the final layer. We'll need a final softmax layer as before. First let's freeze all these pretrained weights. They are fine as they are."
      ]
    },
    {
      "cell_type": "code",
      "metadata": {
        "id": "YTziRl8BK64Y"
      },
      "source": [
        "# This freezes the weights of our VGG16 pretrained model.\n",
        "for layer in base_model.layers:  \n",
        "    layer.trainable = False"
      ],
      "execution_count": null,
      "outputs": []
    },
    {
      "cell_type": "markdown",
      "metadata": {
        "id": "HhTrIRPbLMCB"
      },
      "source": [
        "### Part A) Building the Classifier\n",
        "Now let's just add a flatten layer, a trainable dense layer, and a final softmax layer to the network to complete the classifier model for our gesture recognition task. Use Keras' functional approach to building a network."
      ]
    },
    {
      "cell_type": "code",
      "metadata": {
        "id": "YstHSchOLM7N",
        "colab": {
          "base_uri": "https://localhost:8080/"
        },
        "outputId": "cdf12763-c50f-4506-c816-f0d6d8d2edc6"
      },
      "source": [
        "# Now add layers to our pre-trained base model and add classification layers on top of it\n",
        "x = base_model.output\n",
        "x = Flatten()(x)\n",
        "x = Dense(64, activation = 'relu')(x)\n",
        "x = Dense(len(label_map), activation = 'softmax')(x) \n",
        "\n",
        "# And now put this all together to create our new model.\n",
        "model = Model(inputs = base_model.input, outputs = x) \n",
        "model.summary()"
      ],
      "execution_count": null,
      "outputs": [
        {
          "output_type": "stream",
          "text": [
            "Model: \"model\"\n",
            "_________________________________________________________________\n",
            "Layer (type)                 Output Shape              Param #   \n",
            "=================================================================\n",
            "input_1 (InputLayer)         [(None, 200, 200, 3)]     0         \n",
            "_________________________________________________________________\n",
            "block1_conv1 (Conv2D)        (None, 200, 200, 64)      1792      \n",
            "_________________________________________________________________\n",
            "block1_conv2 (Conv2D)        (None, 200, 200, 64)      36928     \n",
            "_________________________________________________________________\n",
            "block1_pool (MaxPooling2D)   (None, 100, 100, 64)      0         \n",
            "_________________________________________________________________\n",
            "block2_conv1 (Conv2D)        (None, 100, 100, 128)     73856     \n",
            "_________________________________________________________________\n",
            "block2_conv2 (Conv2D)        (None, 100, 100, 128)     147584    \n",
            "_________________________________________________________________\n",
            "block2_pool (MaxPooling2D)   (None, 50, 50, 128)       0         \n",
            "_________________________________________________________________\n",
            "block3_conv1 (Conv2D)        (None, 50, 50, 256)       295168    \n",
            "_________________________________________________________________\n",
            "block3_conv2 (Conv2D)        (None, 50, 50, 256)       590080    \n",
            "_________________________________________________________________\n",
            "block3_conv3 (Conv2D)        (None, 50, 50, 256)       590080    \n",
            "_________________________________________________________________\n",
            "block3_pool (MaxPooling2D)   (None, 25, 25, 256)       0         \n",
            "_________________________________________________________________\n",
            "block4_conv1 (Conv2D)        (None, 25, 25, 512)       1180160   \n",
            "_________________________________________________________________\n",
            "block4_conv2 (Conv2D)        (None, 25, 25, 512)       2359808   \n",
            "_________________________________________________________________\n",
            "block4_conv3 (Conv2D)        (None, 25, 25, 512)       2359808   \n",
            "_________________________________________________________________\n",
            "block4_pool (MaxPooling2D)   (None, 12, 12, 512)       0         \n",
            "_________________________________________________________________\n",
            "block5_conv1 (Conv2D)        (None, 12, 12, 512)       2359808   \n",
            "_________________________________________________________________\n",
            "block5_conv2 (Conv2D)        (None, 12, 12, 512)       2359808   \n",
            "_________________________________________________________________\n",
            "block5_conv3 (Conv2D)        (None, 12, 12, 512)       2359808   \n",
            "_________________________________________________________________\n",
            "block5_pool (MaxPooling2D)   (None, 6, 6, 512)         0         \n",
            "_________________________________________________________________\n",
            "flatten_2 (Flatten)          (None, 18432)             0         \n",
            "_________________________________________________________________\n",
            "dense_5 (Dense)              (None, 64)                1179712   \n",
            "_________________________________________________________________\n",
            "dense_6 (Dense)              (None, 29)                1885      \n",
            "=================================================================\n",
            "Total params: 15,896,285\n",
            "Trainable params: 1,181,597\n",
            "Non-trainable params: 14,714,688\n",
            "_________________________________________________________________\n"
          ],
          "name": "stdout"
        }
      ]
    },
    {
      "cell_type": "markdown",
      "metadata": {
        "id": "YMnWikXkLczn"
      },
      "source": [
        "### Part B) Initializing Training Parameters\n",
        "\n",
        "Compile the model using an appropriate loss function and optimizer."
      ]
    },
    {
      "cell_type": "code",
      "metadata": {
        "id": "vqWwKwCBLhyZ"
      },
      "source": [
        "# Compile the model.\n",
        "model.compile(loss = 'sparse_categorical_crossentropy',\n",
        "              optimizer = RMSprop(lr = 0.001),\n",
        "              metrics = ['accuracy'])"
      ],
      "execution_count": null,
      "outputs": []
    },
    {
      "cell_type": "markdown",
      "metadata": {
        "id": "bUWfx4vYtblN"
      },
      "source": [
        "### Part C) Training the Model\n",
        "\n",
        "Train your new network, including any hyperparameter tuning. Plot the training curve of your best model only.\n",
        "\n",
        "As you can see here in the Keras docs:\n",
        "\n",
        "https://keras.io/api/applications/vgg/#vgg16-function\n",
        "\n",
        "that we are required to preprocess our image data in a specific way to use this pretrained model, so let's go ahead and do that first."
      ]
    },
    {
      "cell_type": "code",
      "metadata": {
        "id": "MX8s_zv6qM9G"
      },
      "source": [
        "# Preprocess your input image data\n",
        "\n",
        "### YOUR CODE HERE ###\n",
        "# X = preprocess_input(X_train)\n",
        "# y = to_categorical(y, 10)"
      ],
      "execution_count": null,
      "outputs": []
    },
    {
      "cell_type": "code",
      "metadata": {
        "id": "m9U0HITqLl-7",
        "colab": {
          "base_uri": "https://localhost:8080/"
        },
        "outputId": "ed776f5a-e2fc-4715-cf41-a29c0b2052fc"
      },
      "source": [
        "# Train the model\n",
        "model.compile(loss = 'categorical_crossentropy', optimizer = 'adam', metrics = ['acc'])\n",
        "\n",
        "history = model.fit(\n",
        "  train_generator,\n",
        "  steps_per_epoch = 80,\n",
        "  epochs = 100,\n",
        "  validation_data = validation_generator,\n",
        "  validation_steps = 20,\n",
        "  verbose = 2)"
      ],
      "execution_count": null,
      "outputs": [
        {
          "output_type": "stream",
          "text": [
            "Epoch 1/100\n",
            "80/80 - 17s - loss: 2.9355 - acc: 0.2025 - val_loss: 2.2796 - val_acc: 0.3967\n",
            "Epoch 2/100\n",
            "80/80 - 11s - loss: 1.8726 - acc: 0.5221 - val_loss: 1.4640 - val_acc: 0.6433\n",
            "Epoch 3/100\n",
            "80/80 - 11s - loss: 1.3326 - acc: 0.6621 - val_loss: 1.0606 - val_acc: 0.7350\n",
            "Epoch 4/100\n",
            "80/80 - 11s - loss: 0.9934 - acc: 0.7550 - val_loss: 0.7736 - val_acc: 0.8200\n",
            "Epoch 5/100\n",
            "80/80 - 11s - loss: 0.7238 - acc: 0.8338 - val_loss: 0.7279 - val_acc: 0.8233\n",
            "Epoch 6/100\n",
            "80/80 - 11s - loss: 0.6053 - acc: 0.8621 - val_loss: 0.5969 - val_acc: 0.8583\n",
            "Epoch 7/100\n",
            "80/80 - 11s - loss: 0.5174 - acc: 0.8675 - val_loss: 0.4501 - val_acc: 0.8900\n",
            "Epoch 8/100\n",
            "80/80 - 11s - loss: 0.4486 - acc: 0.8992 - val_loss: 0.4011 - val_acc: 0.9300\n",
            "Epoch 9/100\n",
            "80/80 - 11s - loss: 0.3899 - acc: 0.9083 - val_loss: 0.4254 - val_acc: 0.8900\n",
            "Epoch 10/100\n",
            "80/80 - 11s - loss: 0.3603 - acc: 0.9225 - val_loss: 0.3808 - val_acc: 0.8983\n",
            "Epoch 11/100\n",
            "80/80 - 11s - loss: 0.3116 - acc: 0.9362 - val_loss: 0.3140 - val_acc: 0.9183\n",
            "Epoch 12/100\n",
            "80/80 - 11s - loss: 0.2963 - acc: 0.9279 - val_loss: 0.2924 - val_acc: 0.9317\n",
            "Epoch 13/100\n",
            "80/80 - 11s - loss: 0.2828 - acc: 0.9329 - val_loss: 0.2730 - val_acc: 0.9383\n",
            "Epoch 14/100\n",
            "80/80 - 11s - loss: 0.2365 - acc: 0.9546 - val_loss: 0.1902 - val_acc: 0.9550\n",
            "Epoch 15/100\n",
            "80/80 - 11s - loss: 0.2179 - acc: 0.9550 - val_loss: 0.2314 - val_acc: 0.9400\n",
            "Epoch 16/100\n",
            "80/80 - 11s - loss: 0.1934 - acc: 0.9638 - val_loss: 0.2015 - val_acc: 0.9533\n",
            "Epoch 17/100\n",
            "80/80 - 11s - loss: 0.1901 - acc: 0.9583 - val_loss: 0.2159 - val_acc: 0.9383\n",
            "Epoch 18/100\n",
            "80/80 - 11s - loss: 0.1692 - acc: 0.9692 - val_loss: 0.1440 - val_acc: 0.9783\n",
            "Epoch 19/100\n",
            "80/80 - 11s - loss: 0.1485 - acc: 0.9725 - val_loss: 0.1478 - val_acc: 0.9667\n",
            "Epoch 20/100\n",
            "80/80 - 11s - loss: 0.1375 - acc: 0.9762 - val_loss: 0.1917 - val_acc: 0.9483\n",
            "Epoch 21/100\n",
            "80/80 - 11s - loss: 0.1265 - acc: 0.9779 - val_loss: 0.1583 - val_acc: 0.9617\n",
            "Epoch 22/100\n",
            "80/80 - 11s - loss: 0.1250 - acc: 0.9750 - val_loss: 0.1543 - val_acc: 0.9550\n",
            "Epoch 23/100\n",
            "80/80 - 11s - loss: 0.1232 - acc: 0.9767 - val_loss: 0.1203 - val_acc: 0.9767\n",
            "Epoch 24/100\n",
            "80/80 - 11s - loss: 0.1019 - acc: 0.9833 - val_loss: 0.1175 - val_acc: 0.9683\n",
            "Epoch 25/100\n",
            "80/80 - 11s - loss: 0.1142 - acc: 0.9758 - val_loss: 0.1213 - val_acc: 0.9717\n",
            "Epoch 26/100\n",
            "80/80 - 11s - loss: 0.0970 - acc: 0.9833 - val_loss: 0.1078 - val_acc: 0.9700\n",
            "Epoch 27/100\n",
            "80/80 - 11s - loss: 0.0900 - acc: 0.9821 - val_loss: 0.1055 - val_acc: 0.9733\n",
            "Epoch 28/100\n",
            "80/80 - 11s - loss: 0.0897 - acc: 0.9850 - val_loss: 0.0672 - val_acc: 0.9917\n",
            "Epoch 29/100\n",
            "80/80 - 11s - loss: 0.0893 - acc: 0.9825 - val_loss: 0.0783 - val_acc: 0.9817\n",
            "Epoch 30/100\n",
            "80/80 - 11s - loss: 0.0827 - acc: 0.9850 - val_loss: 0.0876 - val_acc: 0.9750\n",
            "Epoch 31/100\n",
            "80/80 - 11s - loss: 0.0710 - acc: 0.9904 - val_loss: 0.0865 - val_acc: 0.9850\n",
            "Epoch 32/100\n",
            "80/80 - 11s - loss: 0.0635 - acc: 0.9904 - val_loss: 0.0621 - val_acc: 0.9883\n",
            "Epoch 33/100\n",
            "80/80 - 11s - loss: 0.0672 - acc: 0.9892 - val_loss: 0.0737 - val_acc: 0.9817\n",
            "Epoch 34/100\n",
            "80/80 - 11s - loss: 0.0612 - acc: 0.9883 - val_loss: 0.0926 - val_acc: 0.9750\n",
            "Epoch 35/100\n",
            "80/80 - 11s - loss: 0.0720 - acc: 0.9804 - val_loss: 0.0642 - val_acc: 0.9900\n",
            "Epoch 36/100\n",
            "80/80 - 11s - loss: 0.0613 - acc: 0.9896 - val_loss: 0.0759 - val_acc: 0.9833\n",
            "Epoch 37/100\n",
            "80/80 - 11s - loss: 0.0528 - acc: 0.9887 - val_loss: 0.0629 - val_acc: 0.9833\n",
            "Epoch 38/100\n",
            "80/80 - 11s - loss: 0.0564 - acc: 0.9896 - val_loss: 0.0654 - val_acc: 0.9800\n",
            "Epoch 39/100\n",
            "80/80 - 11s - loss: 0.0562 - acc: 0.9883 - val_loss: 0.0417 - val_acc: 0.9933\n",
            "Epoch 40/100\n",
            "80/80 - 11s - loss: 0.0546 - acc: 0.9842 - val_loss: 0.0493 - val_acc: 0.9900\n",
            "Epoch 41/100\n",
            "80/80 - 11s - loss: 0.0491 - acc: 0.9921 - val_loss: 0.0485 - val_acc: 0.9917\n",
            "Epoch 42/100\n",
            "80/80 - 11s - loss: 0.0420 - acc: 0.9925 - val_loss: 0.0386 - val_acc: 0.9917\n",
            "Epoch 43/100\n",
            "80/80 - 11s - loss: 0.0388 - acc: 0.9946 - val_loss: 0.0409 - val_acc: 0.9933\n",
            "Epoch 44/100\n",
            "80/80 - 11s - loss: 0.0392 - acc: 0.9908 - val_loss: 0.0496 - val_acc: 0.9883\n",
            "Epoch 45/100\n",
            "80/80 - 11s - loss: 0.0331 - acc: 0.9946 - val_loss: 0.0398 - val_acc: 0.9917\n",
            "Epoch 46/100\n",
            "80/80 - 11s - loss: 0.0329 - acc: 0.9946 - val_loss: 0.0970 - val_acc: 0.9767\n",
            "Epoch 47/100\n",
            "80/80 - 11s - loss: 0.0374 - acc: 0.9933 - val_loss: 0.0434 - val_acc: 0.9900\n",
            "Epoch 48/100\n",
            "80/80 - 11s - loss: 0.0488 - acc: 0.9883 - val_loss: 0.0813 - val_acc: 0.9800\n",
            "Epoch 49/100\n",
            "80/80 - 11s - loss: 0.0328 - acc: 0.9950 - val_loss: 0.0603 - val_acc: 0.9850\n",
            "Epoch 50/100\n",
            "80/80 - 11s - loss: 0.0363 - acc: 0.9900 - val_loss: 0.0334 - val_acc: 0.9933\n",
            "Epoch 51/100\n",
            "80/80 - 11s - loss: 0.0270 - acc: 0.9967 - val_loss: 0.0646 - val_acc: 0.9800\n",
            "Epoch 52/100\n",
            "80/80 - 11s - loss: 0.0387 - acc: 0.9908 - val_loss: 0.0278 - val_acc: 1.0000\n",
            "Epoch 53/100\n",
            "80/80 - 11s - loss: 0.0234 - acc: 0.9975 - val_loss: 0.0365 - val_acc: 0.9883\n",
            "Epoch 54/100\n",
            "80/80 - 11s - loss: 0.0332 - acc: 0.9929 - val_loss: 0.0555 - val_acc: 0.9850\n",
            "Epoch 55/100\n",
            "80/80 - 11s - loss: 0.0362 - acc: 0.9917 - val_loss: 0.0359 - val_acc: 0.9900\n",
            "Epoch 56/100\n",
            "80/80 - 11s - loss: 0.0279 - acc: 0.9946 - val_loss: 0.0308 - val_acc: 0.9917\n",
            "Epoch 57/100\n",
            "80/80 - 11s - loss: 0.0233 - acc: 0.9962 - val_loss: 0.0324 - val_acc: 0.9917\n",
            "Epoch 58/100\n",
            "80/80 - 11s - loss: 0.0278 - acc: 0.9921 - val_loss: 0.0261 - val_acc: 0.9950\n",
            "Epoch 59/100\n",
            "80/80 - 11s - loss: 0.0201 - acc: 0.9975 - val_loss: 0.0195 - val_acc: 0.9967\n",
            "Epoch 60/100\n",
            "80/80 - 11s - loss: 0.0327 - acc: 0.9929 - val_loss: 0.0415 - val_acc: 0.9933\n",
            "Epoch 61/100\n",
            "80/80 - 11s - loss: 0.0306 - acc: 0.9937 - val_loss: 0.0581 - val_acc: 0.9800\n",
            "Epoch 62/100\n",
            "80/80 - 11s - loss: 0.0236 - acc: 0.9975 - val_loss: 0.0320 - val_acc: 0.9917\n",
            "Epoch 63/100\n",
            "80/80 - 11s - loss: 0.0201 - acc: 0.9962 - val_loss: 0.0363 - val_acc: 0.9883\n",
            "Epoch 64/100\n",
            "80/80 - 11s - loss: 0.0170 - acc: 0.9971 - val_loss: 0.0188 - val_acc: 0.9983\n",
            "Epoch 65/100\n",
            "80/80 - 11s - loss: 0.0200 - acc: 0.9962 - val_loss: 0.0225 - val_acc: 0.9933\n",
            "Epoch 66/100\n",
            "80/80 - 11s - loss: 0.0257 - acc: 0.9933 - val_loss: 0.0168 - val_acc: 0.9967\n",
            "Epoch 67/100\n",
            "80/80 - 11s - loss: 0.0228 - acc: 0.9950 - val_loss: 0.0121 - val_acc: 1.0000\n",
            "Epoch 68/100\n",
            "80/80 - 11s - loss: 0.0279 - acc: 0.9925 - val_loss: 0.0336 - val_acc: 0.9900\n",
            "Epoch 69/100\n",
            "80/80 - 11s - loss: 0.0222 - acc: 0.9954 - val_loss: 0.0340 - val_acc: 0.9883\n",
            "Epoch 70/100\n",
            "80/80 - 11s - loss: 0.0307 - acc: 0.9904 - val_loss: 0.0383 - val_acc: 0.9900\n",
            "Epoch 71/100\n",
            "80/80 - 11s - loss: 0.0361 - acc: 0.9908 - val_loss: 0.0465 - val_acc: 0.9783\n",
            "Epoch 72/100\n",
            "80/80 - 11s - loss: 0.0271 - acc: 0.9946 - val_loss: 0.0282 - val_acc: 0.9950\n",
            "Epoch 73/100\n",
            "80/80 - 11s - loss: 0.0165 - acc: 0.9962 - val_loss: 0.0171 - val_acc: 0.9950\n",
            "Epoch 74/100\n",
            "80/80 - 11s - loss: 0.0254 - acc: 0.9929 - val_loss: 0.0276 - val_acc: 0.9933\n",
            "Epoch 75/100\n",
            "80/80 - 11s - loss: 0.0226 - acc: 0.9942 - val_loss: 0.0166 - val_acc: 0.9967\n",
            "Epoch 76/100\n",
            "80/80 - 11s - loss: 0.0282 - acc: 0.9900 - val_loss: 0.0326 - val_acc: 0.9883\n",
            "Epoch 77/100\n",
            "80/80 - 11s - loss: 0.0318 - acc: 0.9892 - val_loss: 0.0558 - val_acc: 0.9783\n",
            "Epoch 78/100\n",
            "80/80 - 11s - loss: 0.0216 - acc: 0.9950 - val_loss: 0.0219 - val_acc: 0.9917\n",
            "Epoch 79/100\n",
            "80/80 - 11s - loss: 0.0108 - acc: 0.9983 - val_loss: 0.0208 - val_acc: 0.9983\n",
            "Epoch 80/100\n",
            "80/80 - 11s - loss: 0.0156 - acc: 0.9975 - val_loss: 0.0135 - val_acc: 0.9983\n",
            "Epoch 81/100\n",
            "80/80 - 11s - loss: 0.0151 - acc: 0.9975 - val_loss: 0.0123 - val_acc: 0.9967\n",
            "Epoch 82/100\n",
            "80/80 - 11s - loss: 0.0146 - acc: 0.9975 - val_loss: 0.0121 - val_acc: 0.9967\n",
            "Epoch 83/100\n",
            "80/80 - 11s - loss: 0.0208 - acc: 0.9937 - val_loss: 0.0239 - val_acc: 0.9933\n",
            "Epoch 84/100\n",
            "80/80 - 11s - loss: 0.0188 - acc: 0.9962 - val_loss: 0.0245 - val_acc: 0.9950\n",
            "Epoch 85/100\n",
            "80/80 - 11s - loss: 0.0175 - acc: 0.9954 - val_loss: 0.0060 - val_acc: 1.0000\n",
            "Epoch 86/100\n",
            "80/80 - 11s - loss: 0.0167 - acc: 0.9958 - val_loss: 0.0108 - val_acc: 0.9983\n",
            "Epoch 87/100\n",
            "80/80 - 11s - loss: 0.0419 - acc: 0.9875 - val_loss: 0.0232 - val_acc: 0.9933\n",
            "Epoch 88/100\n",
            "80/80 - 11s - loss: 0.0254 - acc: 0.9929 - val_loss: 0.0181 - val_acc: 0.9950\n",
            "Epoch 89/100\n",
            "80/80 - 11s - loss: 0.0254 - acc: 0.9925 - val_loss: 0.1084 - val_acc: 0.9633\n",
            "Epoch 90/100\n",
            "80/80 - 11s - loss: 0.0305 - acc: 0.9912 - val_loss: 0.0122 - val_acc: 1.0000\n",
            "Epoch 91/100\n",
            "80/80 - 11s - loss: 0.0083 - acc: 0.9987 - val_loss: 0.0428 - val_acc: 0.9900\n",
            "Epoch 92/100\n",
            "80/80 - 11s - loss: 0.0103 - acc: 0.9992 - val_loss: 0.0191 - val_acc: 0.9950\n",
            "Epoch 93/100\n",
            "80/80 - 11s - loss: 0.0092 - acc: 0.9987 - val_loss: 0.0126 - val_acc: 0.9950\n",
            "Epoch 94/100\n",
            "80/80 - 11s - loss: 0.0078 - acc: 0.9987 - val_loss: 0.0152 - val_acc: 0.9983\n",
            "Epoch 95/100\n",
            "80/80 - 11s - loss: 0.0151 - acc: 0.9958 - val_loss: 0.0400 - val_acc: 0.9867\n",
            "Epoch 96/100\n",
            "80/80 - 11s - loss: 0.0580 - acc: 0.9775 - val_loss: 0.0607 - val_acc: 0.9783\n",
            "Epoch 97/100\n",
            "80/80 - 11s - loss: 0.0243 - acc: 0.9921 - val_loss: 0.0117 - val_acc: 1.0000\n",
            "Epoch 98/100\n",
            "80/80 - 11s - loss: 0.0110 - acc: 0.9983 - val_loss: 0.0199 - val_acc: 0.9933\n",
            "Epoch 99/100\n",
            "80/80 - 11s - loss: 0.0104 - acc: 0.9962 - val_loss: 0.0134 - val_acc: 0.9950\n",
            "Epoch 100/100\n",
            "80/80 - 11s - loss: 0.0185 - acc: 0.9937 - val_loss: 0.0177 - val_acc: 0.9967\n"
          ],
          "name": "stdout"
        }
      ]
    },
    {
      "cell_type": "code",
      "metadata": {
        "id": "cyezuk-2M1Gq",
        "colab": {
          "base_uri": "https://localhost:8080/",
          "height": 573
        },
        "outputId": "e8b225da-a5f0-49fd-9ff2-3bd08a5714a7"
      },
      "source": [
        "# Plot the training curve\n",
        "\n",
        "### YOUR CODE HERE ###\n",
        "plt.plot(history.history['loss'])\n",
        "plt.plot(history.history['val_loss'])\n",
        "plt.title('Model Loss')\n",
        "plt.xlabel('Epochs')\n",
        "plt.ylabel('Loss')\n",
        "plt.legend(['train', 'test'])\n",
        "plt.show()\n",
        "\n",
        "plt.plot(history.history['acc'])\n",
        "plt.plot(history.history['val_acc'])\n",
        "plt.title('Model Accuracy')\n",
        "plt.xlabel('Epochs')\n",
        "plt.ylabel('Accuracy')\n",
        "plt.legend(['train', 'test'])\n",
        "plt.show()\n"
      ],
      "execution_count": null,
      "outputs": [
        {
          "output_type": "display_data",
          "data": {
            "image/png": "[encoded data removed]",
            "text/plain": [
              "<Figure size 432x288 with 1 Axes>"
            ]
          },
          "metadata": {
            "tags": [],
            "needs_background": "light"
          }
        },
        {
          "output_type": "display_data",
          "data": {
            "image/png": "[encoded data removed]",
            "text/plain": [
              "<Figure size 432x288 with 1 Axes>"
            ]
          },
          "metadata": {
            "tags": [],
            "needs_background": "light"
          }
        }
      ]
    },
    {
      "cell_type": "markdown",
      "metadata": {
        "id": "1Y8v3jO4jIMU"
      },
      "source": [
        "### Part D) Your Best Classifier\n",
        "\n",
        "Add on your own last layers to the pretrained model and train it on the training data (in the previous parts you could have only one flatten layer and one dense layer to do the classification). You can increase (or decrease) the number of nodes per layer, increase (or decrease) the number of layers, and add dropout if your model is overfitting, change the hyperparameters, change your optimizer, etc. Try to get the validation accuracy higher than what the previous transfer learning model was able to obtain, and try to minimize the amount of overfitting.\n",
        "\n",
        "Plot the classification accuracy for each epoch. Report the best test accuracy your model was able to achieve."
      ]
    },
    {
      "cell_type": "code",
      "metadata": {
        "id": "rXDiG-cdgsyZ",
        "colab": {
          "base_uri": "https://localhost:8080/"
        },
        "outputId": "394d59eb-c378-4f23-86c4-10cdfb693ce2"
      },
      "source": [
        "### YOUR CODE HERE ###\n",
        "hyperparam =  Sequential()\n",
        "\n",
        "hyperparam.add(Conv2D(filters = 32,      \n",
        "                 kernel_size = (3, 3), \n",
        "                 padding = 'Same',\n",
        "                 activation = 'relu', \n",
        "                 input_shape = (200, 200, 3)))\n",
        "\n",
        "hyperparam.add(MaxPooling2D(pool_size = (2, 2)))\n",
        "hyperparam.add(BatchNormalization())\n",
        "hyperparam.add(Conv2D(filters = 64,      \n",
        "                 kernel_size = (5, 5), \n",
        "                 padding = 'Same',\n",
        "                 activation = 'relu'))\n",
        "\n",
        "hyperparam.add(MaxPooling2D(pool_size = (2, 2)))\n",
        "\n",
        "hyperparam.add(Flatten())\n",
        "\n",
        "hyperparam.add(Dense(128, activation = 'relu'))  \n",
        "\n",
        "hyperparam.add(Dense(29, activation = \"softmax\"))\n",
        "\n",
        "hyperparam.summary()\n",
        "\n",
        "sgd = SGD(lr=0.001, decay=1e-6, momentum=0.9)\n",
        "hyperparam.compile(loss = 'categorical_crossentropy', optimizer = sgd, metrics = ['acc'])\n",
        "\n",
        "history = hyperparam.fit(\n",
        "  train_generator,\n",
        "  steps_per_epoch = 80,\n",
        "  epochs = 100,\n",
        "  validation_data = validation_generator,\n",
        "  validation_steps = 20)"
      ],
      "execution_count": null,
      "outputs": [
        {
          "output_type": "stream",
          "text": [
            "Model: \"sequential_2\"\n",
            "_________________________________________________________________\n",
            "Layer (type)                 Output Shape              Param #   \n",
            "=================================================================\n",
            "conv2d_4 (Conv2D)            (None, 200, 200, 32)      896       \n",
            "_________________________________________________________________\n",
            "max_pooling2d_4 (MaxPooling2 (None, 100, 100, 32)      0         \n",
            "_________________________________________________________________\n",
            "batch_normalization_2 (Batch (None, 100, 100, 32)      128       \n",
            "_________________________________________________________________\n",
            "conv2d_5 (Conv2D)            (None, 100, 100, 64)      51264     \n",
            "_________________________________________________________________\n",
            "max_pooling2d_5 (MaxPooling2 (None, 50, 50, 64)        0         \n",
            "_________________________________________________________________\n",
            "flatten_3 (Flatten)          (None, 160000)            0         \n",
            "_________________________________________________________________\n",
            "dense_7 (Dense)              (None, 128)               20480128  \n",
            "_________________________________________________________________\n",
            "dense_8 (Dense)              (None, 29)                3741      \n",
            "=================================================================\n",
            "Total params: 20,536,157\n",
            "Trainable params: 20,536,093\n",
            "Non-trainable params: 64\n",
            "_________________________________________________________________\n",
            "Epoch 1/100\n",
            "80/80 [==============================] - 6s 70ms/step - loss: 3.3822 - acc: 0.0655 - val_loss: 3.3410 - val_acc: 0.0600\n",
            "Epoch 2/100\n",
            "80/80 [==============================] - 5s 65ms/step - loss: 3.0082 - acc: 0.1459 - val_loss: 3.1574 - val_acc: 0.1333\n",
            "Epoch 3/100\n",
            "80/80 [==============================] - 5s 64ms/step - loss: 2.6611 - acc: 0.2242 - val_loss: 2.8088 - val_acc: 0.2750\n",
            "Epoch 4/100\n",
            "80/80 [==============================] - 5s 65ms/step - loss: 2.2418 - acc: 0.3051 - val_loss: 2.5154 - val_acc: 0.3400\n",
            "Epoch 5/100\n",
            "80/80 [==============================] - 5s 65ms/step - loss: 1.9663 - acc: 0.3695 - val_loss: 2.7209 - val_acc: 0.1583\n",
            "Epoch 6/100\n",
            "80/80 [==============================] - 5s 65ms/step - loss: 1.8435 - acc: 0.3977 - val_loss: 2.2541 - val_acc: 0.2667\n",
            "Epoch 7/100\n",
            "80/80 [==============================] - 5s 66ms/step - loss: 1.7079 - acc: 0.4295 - val_loss: 1.8716 - val_acc: 0.4000\n",
            "Epoch 8/100\n",
            "80/80 [==============================] - 5s 65ms/step - loss: 1.5948 - acc: 0.4761 - val_loss: 2.6281 - val_acc: 0.2800\n",
            "Epoch 9/100\n",
            "80/80 [==============================] - 5s 65ms/step - loss: 1.4644 - acc: 0.5229 - val_loss: 1.7409 - val_acc: 0.4783\n",
            "Epoch 10/100\n",
            "80/80 [==============================] - 5s 64ms/step - loss: 1.3357 - acc: 0.5491 - val_loss: 2.0247 - val_acc: 0.3617\n",
            "Epoch 11/100\n",
            "80/80 [==============================] - 5s 65ms/step - loss: 1.2845 - acc: 0.5730 - val_loss: 1.6234 - val_acc: 0.4633\n",
            "Epoch 12/100\n",
            "80/80 [==============================] - 5s 64ms/step - loss: 1.1605 - acc: 0.6083 - val_loss: 1.3212 - val_acc: 0.5383\n",
            "Epoch 13/100\n",
            "80/80 [==============================] - 5s 66ms/step - loss: 1.0307 - acc: 0.6503 - val_loss: 2.4758 - val_acc: 0.3550\n",
            "Epoch 14/100\n",
            "80/80 [==============================] - 5s 65ms/step - loss: 0.9518 - acc: 0.6771 - val_loss: 1.6478 - val_acc: 0.4767\n",
            "Epoch 15/100\n",
            "80/80 [==============================] - 5s 66ms/step - loss: 1.0498 - acc: 0.6443 - val_loss: 1.3830 - val_acc: 0.5467\n",
            "Epoch 16/100\n",
            "80/80 [==============================] - 5s 65ms/step - loss: 0.9098 - acc: 0.6913 - val_loss: 1.0072 - val_acc: 0.6450\n",
            "Epoch 17/100\n",
            "80/80 [==============================] - 5s 64ms/step - loss: 0.8575 - acc: 0.7129 - val_loss: 1.4843 - val_acc: 0.5150\n",
            "Epoch 18/100\n",
            "80/80 [==============================] - 5s 64ms/step - loss: 0.8787 - acc: 0.6971 - val_loss: 1.1415 - val_acc: 0.6250\n",
            "Epoch 19/100\n",
            "80/80 [==============================] - 5s 63ms/step - loss: 0.7434 - acc: 0.7549 - val_loss: 2.1929 - val_acc: 0.5000\n",
            "Epoch 20/100\n",
            "80/80 [==============================] - 5s 65ms/step - loss: 0.7437 - acc: 0.7416 - val_loss: 0.6624 - val_acc: 0.7733\n",
            "Epoch 21/100\n",
            "80/80 [==============================] - 5s 64ms/step - loss: 0.6762 - acc: 0.7642 - val_loss: 2.0924 - val_acc: 0.4650\n",
            "Epoch 22/100\n",
            "80/80 [==============================] - 5s 64ms/step - loss: 0.7391 - acc: 0.7412 - val_loss: 1.6109 - val_acc: 0.4917\n",
            "Epoch 23/100\n",
            "80/80 [==============================] - 5s 64ms/step - loss: 0.7194 - acc: 0.7451 - val_loss: 1.1443 - val_acc: 0.6050\n",
            "Epoch 24/100\n",
            "80/80 [==============================] - 5s 64ms/step - loss: 0.6617 - acc: 0.7618 - val_loss: 1.1756 - val_acc: 0.6133\n",
            "Epoch 25/100\n",
            "80/80 [==============================] - 5s 65ms/step - loss: 0.6078 - acc: 0.7895 - val_loss: 2.2699 - val_acc: 0.5100\n",
            "Epoch 26/100\n",
            "80/80 [==============================] - 5s 64ms/step - loss: 0.5438 - acc: 0.8172 - val_loss: 0.6967 - val_acc: 0.7550\n",
            "Epoch 27/100\n",
            "80/80 [==============================] - 5s 64ms/step - loss: 0.5381 - acc: 0.8165 - val_loss: 1.5153 - val_acc: 0.5700\n",
            "Epoch 28/100\n",
            "80/80 [==============================] - 5s 64ms/step - loss: 0.5082 - acc: 0.8270 - val_loss: 0.8677 - val_acc: 0.7067\n",
            "Epoch 29/100\n",
            "80/80 [==============================] - 5s 64ms/step - loss: 0.4435 - acc: 0.8449 - val_loss: 0.5360 - val_acc: 0.8117\n",
            "Epoch 30/100\n",
            "80/80 [==============================] - 5s 64ms/step - loss: 0.4367 - acc: 0.8438 - val_loss: 0.6772 - val_acc: 0.7733\n",
            "Epoch 31/100\n",
            "80/80 [==============================] - 5s 64ms/step - loss: 0.4247 - acc: 0.8613 - val_loss: 0.5773 - val_acc: 0.7867\n",
            "Epoch 32/100\n",
            "80/80 [==============================] - 5s 64ms/step - loss: 0.4726 - acc: 0.8390 - val_loss: 1.3124 - val_acc: 0.6550\n",
            "Epoch 33/100\n",
            "80/80 [==============================] - 5s 65ms/step - loss: 0.4237 - acc: 0.8495 - val_loss: 0.6440 - val_acc: 0.7750\n",
            "Epoch 34/100\n",
            "80/80 [==============================] - 5s 64ms/step - loss: 0.3347 - acc: 0.8907 - val_loss: 0.5518 - val_acc: 0.8117\n",
            "Epoch 35/100\n",
            "80/80 [==============================] - 5s 64ms/step - loss: 0.3550 - acc: 0.8715 - val_loss: 0.5799 - val_acc: 0.8000\n",
            "Epoch 36/100\n",
            "80/80 [==============================] - 5s 65ms/step - loss: 0.3224 - acc: 0.8859 - val_loss: 0.9984 - val_acc: 0.7217\n",
            "Epoch 37/100\n",
            "80/80 [==============================] - 5s 65ms/step - loss: 0.3574 - acc: 0.8761 - val_loss: 0.3389 - val_acc: 0.8667\n",
            "Epoch 38/100\n",
            "80/80 [==============================] - 5s 65ms/step - loss: 0.3339 - acc: 0.8886 - val_loss: 0.4401 - val_acc: 0.8483\n",
            "Epoch 39/100\n",
            "80/80 [==============================] - 5s 65ms/step - loss: 0.3424 - acc: 0.8857 - val_loss: 0.3822 - val_acc: 0.8633\n",
            "Epoch 40/100\n",
            "80/80 [==============================] - 5s 65ms/step - loss: 0.3086 - acc: 0.8892 - val_loss: 0.3246 - val_acc: 0.8833\n",
            "Epoch 41/100\n",
            "80/80 [==============================] - 5s 65ms/step - loss: 0.2587 - acc: 0.9163 - val_loss: 0.7663 - val_acc: 0.7650\n",
            "Epoch 42/100\n",
            "80/80 [==============================] - 5s 65ms/step - loss: 0.2273 - acc: 0.9190 - val_loss: 0.6100 - val_acc: 0.8017\n",
            "Epoch 43/100\n",
            "80/80 [==============================] - 5s 64ms/step - loss: 0.3033 - acc: 0.8972 - val_loss: 0.2789 - val_acc: 0.8950\n",
            "Epoch 44/100\n",
            "80/80 [==============================] - 5s 65ms/step - loss: 0.2434 - acc: 0.9287 - val_loss: 0.8601 - val_acc: 0.7533\n",
            "Epoch 45/100\n",
            "80/80 [==============================] - 5s 64ms/step - loss: 0.2949 - acc: 0.8955 - val_loss: 0.8696 - val_acc: 0.7183\n",
            "Epoch 46/100\n",
            "80/80 [==============================] - 5s 65ms/step - loss: 0.3367 - acc: 0.8790 - val_loss: 0.9556 - val_acc: 0.7117\n",
            "Epoch 47/100\n",
            "80/80 [==============================] - 5s 65ms/step - loss: 0.2874 - acc: 0.9040 - val_loss: 0.4929 - val_acc: 0.8500\n",
            "Epoch 48/100\n",
            "80/80 [==============================] - 5s 65ms/step - loss: 0.2115 - acc: 0.9330 - val_loss: 0.4500 - val_acc: 0.8367\n",
            "Epoch 49/100\n",
            "80/80 [==============================] - 5s 64ms/step - loss: 0.2164 - acc: 0.9227 - val_loss: 1.8434 - val_acc: 0.6300\n",
            "Epoch 50/100\n",
            "80/80 [==============================] - 5s 65ms/step - loss: 0.1997 - acc: 0.9287 - val_loss: 2.5644 - val_acc: 0.5933\n",
            "Epoch 51/100\n",
            "80/80 [==============================] - 5s 65ms/step - loss: 0.2185 - acc: 0.9334 - val_loss: 0.2133 - val_acc: 0.9217\n",
            "Epoch 52/100\n",
            "80/80 [==============================] - 5s 65ms/step - loss: 0.1878 - acc: 0.9481 - val_loss: 0.4141 - val_acc: 0.8383\n",
            "Epoch 53/100\n",
            "80/80 [==============================] - 5s 65ms/step - loss: 0.1800 - acc: 0.9411 - val_loss: 0.2881 - val_acc: 0.9067\n",
            "Epoch 54/100\n",
            "80/80 [==============================] - 5s 65ms/step - loss: 0.1450 - acc: 0.9487 - val_loss: 0.2511 - val_acc: 0.9000\n",
            "Epoch 55/100\n",
            "80/80 [==============================] - 5s 64ms/step - loss: 0.1288 - acc: 0.9599 - val_loss: 0.2307 - val_acc: 0.9250\n",
            "Epoch 56/100\n",
            "80/80 [==============================] - 5s 64ms/step - loss: 0.1679 - acc: 0.9402 - val_loss: 0.2221 - val_acc: 0.9267\n",
            "Epoch 57/100\n",
            "80/80 [==============================] - 5s 64ms/step - loss: 0.1690 - acc: 0.9434 - val_loss: 0.2380 - val_acc: 0.9200\n",
            "Epoch 58/100\n",
            "80/80 [==============================] - 5s 65ms/step - loss: 0.1507 - acc: 0.9467 - val_loss: 0.2909 - val_acc: 0.9000\n",
            "Epoch 59/100\n",
            "80/80 [==============================] - 5s 65ms/step - loss: 0.1558 - acc: 0.9387 - val_loss: 0.2451 - val_acc: 0.9217\n",
            "Epoch 60/100\n",
            "80/80 [==============================] - 5s 66ms/step - loss: 0.1911 - acc: 0.9371 - val_loss: 0.4990 - val_acc: 0.8167\n",
            "Epoch 61/100\n",
            "80/80 [==============================] - 5s 66ms/step - loss: 0.1460 - acc: 0.9525 - val_loss: 0.3189 - val_acc: 0.8833\n",
            "Epoch 62/100\n",
            "80/80 [==============================] - 5s 65ms/step - loss: 0.1357 - acc: 0.9507 - val_loss: 0.1764 - val_acc: 0.9450\n",
            "Epoch 63/100\n",
            "80/80 [==============================] - 5s 65ms/step - loss: 0.1211 - acc: 0.9596 - val_loss: 0.3456 - val_acc: 0.8683\n",
            "Epoch 64/100\n",
            "80/80 [==============================] - 5s 65ms/step - loss: 0.1764 - acc: 0.9400 - val_loss: 2.3002 - val_acc: 0.6050\n",
            "Epoch 65/100\n",
            "80/80 [==============================] - 5s 65ms/step - loss: 0.1839 - acc: 0.9329 - val_loss: 0.3555 - val_acc: 0.8683\n",
            "Epoch 66/100\n",
            "80/80 [==============================] - 5s 65ms/step - loss: 0.1296 - acc: 0.9603 - val_loss: 0.1686 - val_acc: 0.9533\n",
            "Epoch 67/100\n",
            "80/80 [==============================] - 5s 65ms/step - loss: 0.1138 - acc: 0.9627 - val_loss: 0.3809 - val_acc: 0.8683\n",
            "Epoch 68/100\n",
            "80/80 [==============================] - 5s 65ms/step - loss: 0.1632 - acc: 0.9455 - val_loss: 0.2994 - val_acc: 0.8967\n",
            "Epoch 69/100\n",
            "80/80 [==============================] - 5s 65ms/step - loss: 0.1055 - acc: 0.9614 - val_loss: 0.2832 - val_acc: 0.8933\n",
            "Epoch 70/100\n",
            "80/80 [==============================] - 5s 65ms/step - loss: 0.1411 - acc: 0.9539 - val_loss: 0.2347 - val_acc: 0.9133\n",
            "Epoch 71/100\n",
            "80/80 [==============================] - 5s 66ms/step - loss: 0.1302 - acc: 0.9551 - val_loss: 0.1332 - val_acc: 0.9550\n",
            "Epoch 72/100\n",
            "80/80 [==============================] - 5s 64ms/step - loss: 0.1135 - acc: 0.9623 - val_loss: 0.3332 - val_acc: 0.9050\n",
            "Epoch 73/100\n",
            "80/80 [==============================] - 5s 64ms/step - loss: 0.0930 - acc: 0.9689 - val_loss: 0.1454 - val_acc: 0.9500\n",
            "Epoch 74/100\n",
            "80/80 [==============================] - 5s 64ms/step - loss: 0.0746 - acc: 0.9776 - val_loss: 0.4515 - val_acc: 0.8867\n",
            "Epoch 75/100\n",
            "80/80 [==============================] - 5s 64ms/step - loss: 0.1070 - acc: 0.9658 - val_loss: 0.4431 - val_acc: 0.8533\n",
            "Epoch 76/100\n",
            "80/80 [==============================] - 5s 66ms/step - loss: 0.0896 - acc: 0.9729 - val_loss: 0.1682 - val_acc: 0.9517\n",
            "Epoch 77/100\n",
            "80/80 [==============================] - 5s 66ms/step - loss: 0.0930 - acc: 0.9658 - val_loss: 0.1703 - val_acc: 0.9383\n",
            "Epoch 78/100\n",
            "80/80 [==============================] - 5s 67ms/step - loss: 0.0883 - acc: 0.9731 - val_loss: 0.2802 - val_acc: 0.9133\n",
            "Epoch 79/100\n",
            "80/80 [==============================] - 5s 66ms/step - loss: 0.0911 - acc: 0.9699 - val_loss: 0.1188 - val_acc: 0.9617\n",
            "Epoch 80/100\n",
            "80/80 [==============================] - 5s 65ms/step - loss: 0.0869 - acc: 0.9715 - val_loss: 0.1924 - val_acc: 0.9317\n",
            "Epoch 81/100\n",
            "80/80 [==============================] - 5s 65ms/step - loss: 0.0750 - acc: 0.9746 - val_loss: 0.2364 - val_acc: 0.9100\n",
            "Epoch 82/100\n",
            "80/80 [==============================] - 5s 65ms/step - loss: 0.0748 - acc: 0.9730 - val_loss: 0.0928 - val_acc: 0.9683\n",
            "Epoch 83/100\n",
            "80/80 [==============================] - 5s 65ms/step - loss: 0.0829 - acc: 0.9704 - val_loss: 0.1785 - val_acc: 0.9400\n",
            "Epoch 84/100\n",
            "80/80 [==============================] - 5s 64ms/step - loss: 0.0764 - acc: 0.9779 - val_loss: 0.3183 - val_acc: 0.8933\n",
            "Epoch 85/100\n",
            "80/80 [==============================] - 5s 65ms/step - loss: 0.0762 - acc: 0.9769 - val_loss: 0.2099 - val_acc: 0.9150\n",
            "Epoch 86/100\n",
            "80/80 [==============================] - 5s 66ms/step - loss: 0.0901 - acc: 0.9694 - val_loss: 0.4521 - val_acc: 0.8800\n",
            "Epoch 87/100\n",
            "80/80 [==============================] - 5s 65ms/step - loss: 0.0620 - acc: 0.9806 - val_loss: 0.1623 - val_acc: 0.9400\n",
            "Epoch 88/100\n",
            "80/80 [==============================] - 5s 65ms/step - loss: 0.1074 - acc: 0.9621 - val_loss: 0.3919 - val_acc: 0.8883\n",
            "Epoch 89/100\n",
            "80/80 [==============================] - 5s 66ms/step - loss: 0.0776 - acc: 0.9774 - val_loss: 0.2520 - val_acc: 0.9133\n",
            "Epoch 90/100\n",
            "80/80 [==============================] - 5s 67ms/step - loss: 0.0781 - acc: 0.9715 - val_loss: 0.8452 - val_acc: 0.7900\n",
            "Epoch 91/100\n",
            "80/80 [==============================] - 5s 66ms/step - loss: 0.0690 - acc: 0.9787 - val_loss: 0.0918 - val_acc: 0.9717\n",
            "Epoch 92/100\n",
            "80/80 [==============================] - 5s 68ms/step - loss: 0.0756 - acc: 0.9744 - val_loss: 0.1086 - val_acc: 0.9600\n",
            "Epoch 93/100\n",
            "80/80 [==============================] - 5s 68ms/step - loss: 0.0403 - acc: 0.9879 - val_loss: 0.0731 - val_acc: 0.9833\n",
            "Epoch 94/100\n",
            "80/80 [==============================] - 5s 66ms/step - loss: 0.0491 - acc: 0.9858 - val_loss: 0.2349 - val_acc: 0.9267\n",
            "Epoch 95/100\n",
            "80/80 [==============================] - 5s 66ms/step - loss: 0.0578 - acc: 0.9792 - val_loss: 0.1354 - val_acc: 0.9450\n",
            "Epoch 96/100\n",
            "80/80 [==============================] - 5s 66ms/step - loss: 0.0511 - acc: 0.9854 - val_loss: 0.0579 - val_acc: 0.9767\n",
            "Epoch 97/100\n",
            "80/80 [==============================] - 5s 65ms/step - loss: 0.0395 - acc: 0.9863 - val_loss: 0.1905 - val_acc: 0.9400\n",
            "Epoch 98/100\n",
            "80/80 [==============================] - 5s 66ms/step - loss: 0.0653 - acc: 0.9814 - val_loss: 0.8568 - val_acc: 0.7900\n",
            "Epoch 99/100\n",
            "80/80 [==============================] - 5s 66ms/step - loss: 0.0640 - acc: 0.9767 - val_loss: 0.7432 - val_acc: 0.8133\n",
            "Epoch 100/100\n",
            "80/80 [==============================] - 5s 66ms/step - loss: 0.0668 - acc: 0.9785 - val_loss: 0.0835 - val_acc: 0.9683\n"
          ],
          "name": "stdout"
        }
      ]
    },
    {
      "cell_type": "markdown",
      "metadata": {
        "id": "oPZB5dK0DXIF"
      },
      "source": [
        "[I tried to increase the validation accuracy by adding two convolutional layers just like Q1, I increased the number of filters to has more parameters to learn so that it can improve the validation accuracy.]"
      ]
    }
  ]
}